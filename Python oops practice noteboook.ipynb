{
 "cells": [
  {
   "cell_type": "code",
   "execution_count": 19,
   "id": "eb2fdb43",
   "metadata": {},
   "outputs": [],
   "source": [
    "def square(num):\n",
    "    print(num**2)\n",
    "    def greet():\n",
    "        print(\"\\t This is a greet function\")    \n",
    "    def welcome():\n",
    "        return\"\\t This is welcome funtion\"\n",
    "#     greet()\n",
    "#     print(welcome())\n",
    "    print(\"returning a function\")\n",
    "    if num==3:\n",
    "        return greet # didin't use greet() bcoz wanted to implement it by myfunc().\n",
    "    else:\n",
    "        return welcome\n",
    "    "
   ]
  },
  {
   "cell_type": "code",
   "execution_count": 20,
   "id": "8cfbcaba",
   "metadata": {},
   "outputs": [
    {
     "name": "stdout",
     "output_type": "stream",
     "text": [
      "9\n",
      "returning a function\n"
     ]
    },
    {
     "data": {
      "text/plain": [
       "<function __main__.square.<locals>.greet()>"
      ]
     },
     "execution_count": 20,
     "metadata": {},
     "output_type": "execute_result"
    }
   ],
   "source": [
    "square(3)"
   ]
  },
  {
   "cell_type": "code",
   "execution_count": 21,
   "id": "c9bc5575",
   "metadata": {},
   "outputs": [
    {
     "name": "stdout",
     "output_type": "stream",
     "text": [
      "9\n",
      "returning a function\n"
     ]
    }
   ],
   "source": [
    "myfunc=square(3)"
   ]
  },
  {
   "cell_type": "code",
   "execution_count": 23,
   "id": "943cac5c",
   "metadata": {},
   "outputs": [
    {
     "name": "stdout",
     "output_type": "stream",
     "text": [
      "\t This is a greet function\n"
     ]
    }
   ],
   "source": [
    "myfunc()"
   ]
  },
  {
   "cell_type": "code",
   "execution_count": 26,
   "id": "aca3293c",
   "metadata": {},
   "outputs": [
    {
     "data": {
      "text/plain": [
       "'HI! How r u?'"
      ]
     },
     "execution_count": 26,
     "metadata": {},
     "output_type": "execute_result"
    }
   ],
   "source": [
    "def hello():\n",
    "    return \"HI! How r u?\"\n",
    "def other(some_def_func):\n",
    "    print(\"Other code run here\")\n",
    "    print(some_def_func())\n",
    "    \n",
    "hello()"
   ]
  },
  {
   "cell_type": "code",
   "execution_count": 27,
   "id": "b3ff898b",
   "metadata": {},
   "outputs": [
    {
     "name": "stdout",
     "output_type": "stream",
     "text": [
      "Other code run here\n",
      "HI! How r u?\n"
     ]
    }
   ],
   "source": [
    "other(hello)"
   ]
  },
  {
   "cell_type": "code",
   "execution_count": 12,
   "id": "3e31996b",
   "metadata": {},
   "outputs": [],
   "source": [
    "def decorator(original_func):\n",
    "    def wrap_func():\n",
    "        print(\"The wrapping starts here.\")\n",
    "        original_func()\n",
    "        print(\"The wrapinf ends here.\")\n",
    "    return wrap_func"
   ]
  },
  {
   "cell_type": "code",
   "execution_count": 8,
   "id": "447c6faf",
   "metadata": {},
   "outputs": [
    {
     "name": "stdout",
     "output_type": "stream",
     "text": [
      "I want decorator.\n"
     ]
    }
   ],
   "source": [
    "def need_decorator():\n",
    "    print(\"I want decorator.\")\n",
    "need_decorator()"
   ]
  },
  {
   "cell_type": "code",
   "execution_count": 9,
   "id": "eb5706dd",
   "metadata": {},
   "outputs": [],
   "source": [
    "decorated_func=decorator(need_decorator)"
   ]
  },
  {
   "cell_type": "code",
   "execution_count": 10,
   "id": "5d823630",
   "metadata": {},
   "outputs": [
    {
     "name": "stdout",
     "output_type": "stream",
     "text": [
      "The wrapping starts here.\n",
      "I want decorator.\n",
      "The wrapinf ends here.\n"
     ]
    }
   ],
   "source": [
    "decorated_func()"
   ]
  },
  {
   "cell_type": "code",
   "execution_count": 13,
   "id": "6dc0c00e",
   "metadata": {},
   "outputs": [
    {
     "name": "stdout",
     "output_type": "stream",
     "text": [
      "The wrapping starts here.\n",
      "I want 2nd decorator.\n",
      "The wrapinf ends here.\n"
     ]
    }
   ],
   "source": [
    "@decorator\n",
    "def need2_decorator():\n",
    "    print(\"I want 2nd decorator.\")\n",
    "need2_decorator()"
   ]
  },
  {
   "cell_type": "code",
   "execution_count": 173,
   "id": "956da508",
   "metadata": {},
   "outputs": [],
   "source": [
    "def add_one(func):\n",
    "    def wrapper(*args):\n",
    "        result=func(*args)\n",
    "        return result+1\n",
    "    return wrapper\n",
    "        "
   ]
  },
  {
   "cell_type": "code",
   "execution_count": 174,
   "id": "a8edfd92",
   "metadata": {},
   "outputs": [
    {
     "name": "stdout",
     "output_type": "stream",
     "text": [
      "9\n"
     ]
    }
   ],
   "source": [
    "@add_one\n",
    "def cube(n):\n",
    "    return n**3\n",
    "print(cube(2))"
   ]
  },
  {
   "cell_type": "code",
   "execution_count": 5,
   "id": "e38a9a01",
   "metadata": {},
   "outputs": [
    {
     "name": "stdout",
     "output_type": "stream",
     "text": [
      "14\n"
     ]
    }
   ],
   "source": [
    "def mult_2(func):\n",
    "    def wrapper(*args,**kwargs):\n",
    "        result=func(*args)\n",
    "        result=result*2\n",
    "        return result\n",
    "    return wrapper\n",
    "\n",
    "def add_3(func):\n",
    "    def wrapper(*args,**kwargs):\n",
    "        result=func(*args,**kwargs)\n",
    "        result+=3\n",
    "        return result\n",
    "    return wrapper\n",
    "\n",
    "@mult_2\n",
    "@add_3\n",
    "\n",
    "def same(a):\n",
    "    return a\n",
    "print(same(4))"
   ]
  },
  {
   "cell_type": "code",
   "execution_count": 67,
   "id": "df40e9d6",
   "metadata": {},
   "outputs": [
    {
     "name": "stdout",
     "output_type": "stream",
     "text": [
      "0\n",
      "1\n",
      "8\n"
     ]
    }
   ],
   "source": [
    "def create_cubes(n):\n",
    "    for i in range(n):\n",
    "        print(i**3)\n",
    "create_cubes(3)\n"
   ]
  },
  {
   "cell_type": "code",
   "execution_count": 63,
   "id": "79b77bf5",
   "metadata": {},
   "outputs": [
    {
     "name": "stdout",
     "output_type": "stream",
     "text": [
      "0\n",
      "1\n",
      "8\n",
      "27\n"
     ]
    },
    {
     "ename": "TypeError",
     "evalue": "'NoneType' object is not iterable",
     "output_type": "error",
     "traceback": [
      "\u001b[1;31m---------------------------------------------------------------------------\u001b[0m",
      "\u001b[1;31mTypeError\u001b[0m                                 Traceback (most recent call last)",
      "Cell \u001b[1;32mIn[63], line 1\u001b[0m\n\u001b[1;32m----> 1\u001b[0m \u001b[38;5;28;01mfor\u001b[39;00m i \u001b[38;5;129;01min\u001b[39;00m create_cubes(\u001b[38;5;241m4\u001b[39m):\n\u001b[0;32m      2\u001b[0m     \u001b[38;5;28mprint\u001b[39m(i)\n",
      "\u001b[1;31mTypeError\u001b[0m: 'NoneType' object is not iterable"
     ]
    }
   ],
   "source": [
    "for i in create_cubes(4):\n",
    "    print(i)"
   ]
  },
  {
   "cell_type": "code",
   "execution_count": 76,
   "id": "ead5dfba",
   "metadata": {},
   "outputs": [
    {
     "name": "stdout",
     "output_type": "stream",
     "text": [
      "0\n",
      "1\n",
      "1\n",
      "2\n",
      "3\n",
      "5\n",
      "8\n",
      "13\n",
      "21\n",
      "34\n"
     ]
    }
   ],
   "source": [
    "def fibbo(n):\n",
    "    n1=0\n",
    "    n2=1\n",
    "    print(n1)\n",
    "    print(n2)\n",
    "    for i in range(2,n):\n",
    "        n3=n1+n2\n",
    "        n1=n2\n",
    "        n2=n3\n",
    "        print(n2)\n",
    "        \n",
    "        \n",
    "fibbo(10)       "
   ]
  },
  {
   "cell_type": "code",
   "execution_count": 77,
   "id": "b4c1cf02",
   "metadata": {},
   "outputs": [],
   "source": [
    "def fib(n):\n",
    "    a=0\n",
    "    b=1\n",
    "    for i in range(n):\n",
    "        yield a\n",
    "        a,b=b,a+b\n",
    "    "
   ]
  },
  {
   "cell_type": "code",
   "execution_count": 78,
   "id": "0b501c55",
   "metadata": {},
   "outputs": [
    {
     "name": "stdout",
     "output_type": "stream",
     "text": [
      "0\n",
      "1\n",
      "1\n",
      "2\n",
      "3\n",
      "5\n",
      "8\n",
      "13\n",
      "21\n",
      "34\n"
     ]
    }
   ],
   "source": [
    "for number in fib(10):\n",
    "    print(number)"
   ]
  },
  {
   "cell_type": "code",
   "execution_count": 82,
   "id": "41b66f80",
   "metadata": {},
   "outputs": [],
   "source": [
    "def  simple_gen():\n",
    "    for x in range(3):\n",
    "        yield x"
   ]
  },
  {
   "cell_type": "code",
   "execution_count": 86,
   "id": "50e73e81",
   "metadata": {},
   "outputs": [],
   "source": [
    "g=simple_gen()"
   ]
  },
  {
   "cell_type": "code",
   "execution_count": 87,
   "id": "3f76ed3a",
   "metadata": {},
   "outputs": [
    {
     "name": "stdout",
     "output_type": "stream",
     "text": [
      "0\n"
     ]
    }
   ],
   "source": [
    "print(next(g))"
   ]
  },
  {
   "cell_type": "code",
   "execution_count": 88,
   "id": "b0eed3e1",
   "metadata": {},
   "outputs": [
    {
     "name": "stdout",
     "output_type": "stream",
     "text": [
      "1\n"
     ]
    }
   ],
   "source": [
    "print(next(g))"
   ]
  },
  {
   "cell_type": "code",
   "execution_count": null,
   "id": "d0264dcb",
   "metadata": {},
   "outputs": [],
   "source": []
  },
  {
   "cell_type": "code",
   "execution_count": 90,
   "id": "876abb12",
   "metadata": {},
   "outputs": [
    {
     "name": "stdout",
     "output_type": "stream",
     "text": [
      "h\n",
      "e\n",
      "l\n",
      "l\n",
      "o\n"
     ]
    }
   ],
   "source": [
    "str1=\"hello\"\n",
    "for letter in str1:\n",
    "    print(letter)"
   ]
  },
  {
   "cell_type": "code",
   "execution_count": 93,
   "id": "e96d7b37",
   "metadata": {},
   "outputs": [
    {
     "ename": "TypeError",
     "evalue": "'str' object is not an iterator",
     "output_type": "error",
     "traceback": [
      "\u001b[1;31m---------------------------------------------------------------------------\u001b[0m",
      "\u001b[1;31mTypeError\u001b[0m                                 Traceback (most recent call last)",
      "Cell \u001b[1;32mIn[93], line 1\u001b[0m\n\u001b[1;32m----> 1\u001b[0m \u001b[38;5;28;43mnext\u001b[39;49m\u001b[43m(\u001b[49m\u001b[43mstr1\u001b[49m\u001b[43m)\u001b[49m\n",
      "\u001b[1;31mTypeError\u001b[0m: 'str' object is not an iterator"
     ]
    }
   ],
   "source": [
    "next(str1)"
   ]
  },
  {
   "cell_type": "code",
   "execution_count": 92,
   "id": "0c538d0e",
   "metadata": {},
   "outputs": [
    {
     "data": {
      "text/plain": [
       "'h'"
      ]
     },
     "execution_count": 92,
     "metadata": {},
     "output_type": "execute_result"
    }
   ],
   "source": [
    "s_iter=iter(str1)\n",
    "next(s_iter)"
   ]
  },
  {
   "cell_type": "code",
   "execution_count": null,
   "id": "a48797d1",
   "metadata": {},
   "outputs": [],
   "source": [
    "next(s_iter)"
   ]
  },
  {
   "cell_type": "code",
   "execution_count": 94,
   "id": "3d80bb3a",
   "metadata": {},
   "outputs": [],
   "source": [
    "def prev_1(n):\n",
    "    for i in range(n):\n",
    "        yield i-1"
   ]
  },
  {
   "cell_type": "code",
   "execution_count": 95,
   "id": "1f19b03d",
   "metadata": {},
   "outputs": [
    {
     "data": {
      "text/plain": [
       "<generator object prev_1 at 0x000001D1F2863A70>"
      ]
     },
     "execution_count": 95,
     "metadata": {},
     "output_type": "execute_result"
    }
   ],
   "source": [
    "prev_1(4)"
   ]
  },
  {
   "cell_type": "code",
   "execution_count": 96,
   "id": "4893d41f",
   "metadata": {},
   "outputs": [
    {
     "data": {
      "text/plain": [
       "[-1, 0, 1, 2, 3]"
      ]
     },
     "execution_count": 96,
     "metadata": {},
     "output_type": "execute_result"
    }
   ],
   "source": [
    "list(prev_1(5))"
   ]
  },
  {
   "cell_type": "code",
   "execution_count": 98,
   "id": "17ab269a",
   "metadata": {},
   "outputs": [
    {
     "name": "stdout",
     "output_type": "stream",
     "text": [
      "-1\n",
      "0\n",
      "1\n",
      "2\n"
     ]
    }
   ],
   "source": [
    "for i in prev_1(4):\n",
    "    print(i)"
   ]
  },
  {
   "cell_type": "code",
   "execution_count": 99,
   "id": "90ea9abe",
   "metadata": {},
   "outputs": [
    {
     "name": "stdout",
     "output_type": "stream",
     "text": [
      "18\n",
      "23\n",
      "91\n",
      "71\n",
      "16\n"
     ]
    }
   ],
   "source": [
    "import random\n",
    "def random_integer(n,low,high):\n",
    "    for i in range(n):\n",
    "        yield random.randint(low,high)\n",
    "\n",
    "for i in random_integer(5,10,100):\n",
    "    print(i)\n",
    "    "
   ]
  },
  {
   "cell_type": "code",
   "execution_count": 100,
   "id": "47cf7e7f",
   "metadata": {},
   "outputs": [
    {
     "name": "stdout",
     "output_type": "stream",
     "text": [
      "1\n",
      "4\n",
      "9\n",
      "16\n"
     ]
    }
   ],
   "source": [
    "def square(n):\n",
    "    for i in range(1,n+1):\n",
    "        yield i**2\n",
    "        \n",
    "for i in square(4):\n",
    "    print(i)\n",
    "        "
   ]
  },
  {
   "cell_type": "code",
   "execution_count": 104,
   "id": "54b7f481",
   "metadata": {},
   "outputs": [],
   "source": [
    "s1=\"Hi! I am Smarth\"\n",
    "s1_iter=iter(s1)\n",
    "\n"
   ]
  },
  {
   "cell_type": "code",
   "execution_count": 106,
   "id": "d81c5895",
   "metadata": {},
   "outputs": [
    {
     "data": {
      "text/plain": [
       "'H'"
      ]
     },
     "execution_count": 106,
     "metadata": {},
     "output_type": "execute_result"
    }
   ],
   "source": [
    "next(s1_iter)"
   ]
  },
  {
   "cell_type": "code",
   "execution_count": 107,
   "id": "199bf320",
   "metadata": {},
   "outputs": [],
   "source": [
    "l1=[ x**2 for x in range(5) if x%2==0]"
   ]
  },
  {
   "cell_type": "code",
   "execution_count": 109,
   "id": "f96cd690",
   "metadata": {},
   "outputs": [
    {
     "data": {
      "text/plain": [
       "[0, 4, 16]"
      ]
     },
     "execution_count": 109,
     "metadata": {},
     "output_type": "execute_result"
    }
   ],
   "source": [
    "l1"
   ]
  },
  {
   "cell_type": "code",
   "execution_count": 132,
   "id": "91b233fb",
   "metadata": {},
   "outputs": [],
   "source": [
    "class Animal:\n",
    "    def speak(self):\n",
    "        print(\"I am an animal\")\n",
    "class dog(Animal):\n",
    "    def __init__(self,breed):\n",
    "        self.breed=breed\n",
    "    def eat(self):\n",
    "        print(\"I eat legs.\")\n",
    "d1=dog(\"Labrador\")\n",
    "\n",
    "class cat(dog):\n",
    "    \n",
    "    def __init__(self):\n",
    "        pass\n",
    "    def eyes(self):\n",
    "        print(\"I have sharp eyes\")\n",
    "\n",
    "        \n",
    "    "
   ]
  },
  {
   "cell_type": "code",
   "execution_count": 133,
   "id": "61fca353",
   "metadata": {},
   "outputs": [
    {
     "name": "stdout",
     "output_type": "stream",
     "text": [
      "I am an animal\n"
     ]
    }
   ],
   "source": [
    "d1.speak()"
   ]
  },
  {
   "cell_type": "code",
   "execution_count": 134,
   "id": "6045cc8c",
   "metadata": {},
   "outputs": [
    {
     "name": "stdout",
     "output_type": "stream",
     "text": [
      "I eat legs.\n"
     ]
    }
   ],
   "source": [
    "c1=cat()\n",
    "c1.eat()"
   ]
  },
  {
   "cell_type": "code",
   "execution_count": 142,
   "id": "e921481b",
   "metadata": {},
   "outputs": [
    {
     "data": {
      "text/plain": [
       "9.433981132056603"
      ]
     },
     "execution_count": 142,
     "metadata": {},
     "output_type": "execute_result"
    }
   ],
   "source": [
    "class Line:\n",
    "    def __init__(self,coor1,coor2):\n",
    "        self.coor1=coor1\n",
    "        self.coor2=coor2\n",
    "    def distance(self):\n",
    "        x1,y1=self.coor1\n",
    "        x2,y2=self.coor2\n",
    "        dist=((x2-x1)**2 + (y2-y1)**2)**0.5\n",
    "        return dist\n",
    "    def slope(self):\n",
    "        x1,y1=self.coor1\n",
    "        x2,y2=self.coor2\n",
    "        slope1=(y2-y1)/(x2-x1)\n",
    "        return slope1\n",
    "coor1=(3,2)\n",
    "coor2=(8,10)\n",
    "                        \n",
    "li=Line(coor1,coor2)       \n",
    "li.distance()"
   ]
  },
  {
   "cell_type": "code",
   "execution_count": 169,
   "id": "e712723a",
   "metadata": {},
   "outputs": [],
   "source": [
    "class Cylinder:\n",
    "    def __init__(self,height=1,radius=1):\n",
    "        self.height=height\n",
    "        self.radius=radius\n",
    "    def volume(self,height,radius):\n",
    "        vol=3.14 * radius**2 *height\n",
    "        return vol\n",
    "        "
   ]
  },
  {
   "cell_type": "code",
   "execution_count": 170,
   "id": "a8535842",
   "metadata": {},
   "outputs": [],
   "source": [
    "c1=Cylinder()"
   ]
  },
  {
   "cell_type": "code",
   "execution_count": 171,
   "id": "6e021a4c",
   "metadata": {},
   "outputs": [
    {
     "data": {
      "text/plain": [
       "1"
      ]
     },
     "execution_count": 171,
     "metadata": {},
     "output_type": "execute_result"
    }
   ],
   "source": [
    "c1.height"
   ]
  },
  {
   "cell_type": "code",
   "execution_count": 172,
   "id": "b6b95487",
   "metadata": {},
   "outputs": [
    {
     "data": {
      "text/plain": [
       "314.0"
      ]
     },
     "execution_count": 172,
     "metadata": {},
     "output_type": "execute_result"
    }
   ],
   "source": [
    "c1.volume(4,5)"
   ]
  },
  {
   "cell_type": "code",
   "execution_count": 164,
   "id": "bd9ff136",
   "metadata": {},
   "outputs": [
    {
     "name": "stdout",
     "output_type": "stream",
     "text": [
      "100.48\n"
     ]
    }
   ],
   "source": [
    "def cylinder(height=1,radius=1):\n",
    "    vol=3.14* radius**2 * height\n",
    "    return vol\n",
    "print(cylinder(2,4))"
   ]
  },
  {
   "cell_type": "code",
   "execution_count": 58,
   "id": "e7ad6308",
   "metadata": {},
   "outputs": [
    {
     "name": "stdout",
     "output_type": "stream",
     "text": [
      "Requirement already satisfied: multipledispatch in c:\\users\\smart\\anaconda3\\lib\\site-packages (0.6.0)"
     ]
    },
    {
     "name": "stderr",
     "output_type": "stream",
     "text": [
      "WARNING: Ignoring invalid distribution -illow (c:\\users\\smart\\anaconda3\\lib\\site-packages)\n",
      "WARNING: Ignoring invalid distribution -ffi (c:\\users\\smart\\anaconda3\\lib\\site-packages)\n",
      "WARNING: Ignoring invalid distribution -illow (c:\\users\\smart\\anaconda3\\lib\\site-packages)\n",
      "WARNING: Ignoring invalid distribution -ffi (c:\\users\\smart\\anaconda3\\lib\\site-packages)\n",
      "WARNING: Ignoring invalid distribution -illow (c:\\users\\smart\\anaconda3\\lib\\site-packages)\n",
      "WARNING: Ignoring invalid distribution -ffi (c:\\users\\smart\\anaconda3\\lib\\site-packages)\n",
      "WARNING: Ignoring invalid distribution -illow (c:\\users\\smart\\anaconda3\\lib\\site-packages)\n",
      "WARNING: Ignoring invalid distribution -ffi (c:\\users\\smart\\anaconda3\\lib\\site-packages)\n",
      "WARNING: Ignoring invalid distribution -illow (c:\\users\\smart\\anaconda3\\lib\\site-packages)\n",
      "WARNING: Ignoring invalid distribution -ffi (c:\\users\\smart\\anaconda3\\lib\\site-packages)\n",
      "WARNING: Ignoring invalid distribution -illow (c:\\users\\smart\\anaconda3\\lib\\site-packages)\n",
      "WARNING: Ignoring invalid distribution -ffi (c:\\users\\smart\\anaconda3\\lib\\site-packages)\n"
     ]
    },
    {
     "name": "stdout",
     "output_type": "stream",
     "text": [
      "\n",
      "Requirement already satisfied: six in c:\\users\\smart\\anaconda3\\lib\\site-packages (from multipledispatch) (1.16.0)\n"
     ]
    }
   ],
   "source": [
    "!pip install multipledispatch"
   ]
  },
  {
   "cell_type": "code",
   "execution_count": 59,
   "id": "7743d569",
   "metadata": {},
   "outputs": [],
   "source": [
    "from multipledispatch import dispatch"
   ]
  },
  {
   "cell_type": "code",
   "execution_count": 65,
   "id": "86620766",
   "metadata": {},
   "outputs": [],
   "source": [
    "class Student:\n",
    "    def __init__(self,name,age):\n",
    "        self.name=name\n",
    "        self.age=age\n",
    "    def add_age(self,add):\n",
    "        self.age=self.age+add\n",
    "    def get_age(self):\n",
    "        return self.age\n",
    "        "
   ]
  },
  {
   "cell_type": "code",
   "execution_count": 66,
   "id": "dca92656",
   "metadata": {},
   "outputs": [
    {
     "name": "stdout",
     "output_type": "stream",
     "text": [
      "21\n",
      "23\n"
     ]
    }
   ],
   "source": [
    "s1=Student(\"Smarth\",21)\n",
    "print(s1.get_age())\n",
    "s1.add_age(2)\n",
    "print(s1.get_age())\n"
   ]
  },
  {
   "cell_type": "code",
   "execution_count": 73,
   "id": "c5d80f97",
   "metadata": {},
   "outputs": [],
   "source": [
    "@dispatch(int,int)\n",
    "def add(a,b):\n",
    "    return a+b\n",
    "\n",
    "@dispatch(str,str)\n",
    "def add(a,b):\n",
    "    return a+\" \"+b\n",
    "@dispatch(int, str)\n",
    "def add(a, b):\n",
    "    return str(a) +\" \" + b"
   ]
  },
  {
   "cell_type": "code",
   "execution_count": 74,
   "id": "834424c6",
   "metadata": {},
   "outputs": [
    {
     "name": "stdout",
     "output_type": "stream",
     "text": [
      "2 Mangoes\n"
     ]
    }
   ],
   "source": [
    "print(add(2,\"Mangoes\"))"
   ]
  },
  {
   "cell_type": "code",
   "execution_count": 76,
   "id": "f3e21c1e",
   "metadata": {},
   "outputs": [
    {
     "data": {
      "text/plain": [
       "122"
      ]
     },
     "execution_count": 76,
     "metadata": {},
     "output_type": "execute_result"
    }
   ],
   "source": [
    "add(110,12)"
   ]
  },
  {
   "cell_type": "code",
   "execution_count": 175,
   "id": "78e8111f",
   "metadata": {},
   "outputs": [],
   "source": [
    "a=lambda  x,y,z: x+y+z"
   ]
  },
  {
   "cell_type": "code",
   "execution_count": null,
   "id": "8b2b3134",
   "metadata": {},
   "outputs": [],
   "source": [
    "def sum1(x,y,z):\n",
    "    return x+y+z"
   ]
  },
  {
   "cell_type": "code",
   "execution_count": 3,
   "id": "94213225",
   "metadata": {},
   "outputs": [
    {
     "name": "stdout",
     "output_type": "stream",
     "text": [
      "2\n"
     ]
    }
   ],
   "source": [
    "# count of a specific char\n",
    "s=\"\"\n",
    "count=0\n",
    "for char in s:\n",
    "    if char==\"a\":\n",
    "        count+=1\n",
    "print(count)\n",
    "        \n",
    "    "
   ]
  },
  {
   "cell_type": "code",
   "execution_count": 4,
   "id": "985c199e",
   "metadata": {},
   "outputs": [
    {
     "name": "stdout",
     "output_type": "stream",
     "text": [
      "Enter tthe string: I love JIngle\n",
      "13\n"
     ]
    }
   ],
   "source": [
    "# length of string wothout using len() function\n",
    "\n",
    "s=input(\"Enter tthe string: \")\n",
    "count=0\n",
    "for char in s:\n",
    "    count+=1\n",
    "print(count)"
   ]
  },
  {
   "cell_type": "code",
   "execution_count": 8,
   "id": "78e07d79",
   "metadata": {},
   "outputs": [
    {
     "name": "stdout",
     "output_type": "stream",
     "text": [
      "Enter the email: smarthkapil02@gmail.com\n",
      "smarthkapil02\n"
     ]
    }
   ],
   "source": [
    "#extract user name from email.(method-1)\n",
    "\n",
    "s=input(\"Enter the email: \")\n",
    "length=len(s)\n",
    "# Length of @gmail.com=10 characters(slice last 9 characters)\n",
    "username=s[:(length-10)]\n",
    "print(username)"
   ]
  },
  {
   "cell_type": "code",
   "execution_count": 15,
   "id": "d413abb8",
   "metadata": {},
   "outputs": [
    {
     "name": "stdout",
     "output_type": "stream",
     "text": [
      "Enter the mail: smarthkapil02@gmail.com\n",
      "smarthkapil02\n"
     ]
    }
   ],
   "source": [
    "#extract user name from email.(method-2)\n",
    "# use of .index method\n",
    "\n",
    "s=input(\"Enter the mail: \")\n",
    "pos=s.index(\"@\")\n",
    "username=s[:pos]\n",
    "print(username)"
   ]
  },
  {
   "cell_type": "code",
   "execution_count": 17,
   "id": "ebafc23c",
   "metadata": {},
   "outputs": [
    {
     "name": "stdout",
     "output_type": "stream",
     "text": [
      "Enter the string: Smarth Kapil\n",
      "Enter the character to be removed from the string: a\n",
      "Smrth Kpil\n"
     ]
    }
   ],
   "source": [
    "# remove particular character from string(using join and list) method-1\n",
    "\n",
    "l1=[]\n",
    "s=input(\"Enter the string: \")\n",
    "a=input(\"Enter the character to be removed from the string: \")\n",
    "for char in s:\n",
    "    if char==a:\n",
    "        pass\n",
    "    else:\n",
    "        l1.append(char)\n",
    "s1=\"\".join(l1)\n",
    "print(s1)\n",
    "    "
   ]
  },
  {
   "cell_type": "code",
   "execution_count": 20,
   "id": "1d62131e",
   "metadata": {},
   "outputs": [
    {
     "name": "stdout",
     "output_type": "stream",
     "text": [
      "Enter the string: smarth\n",
      "Enter the character to be removed from the string: a\n",
      "smrth\n"
     ]
    }
   ],
   "source": [
    "# remove particular character from string(methood-2)\n",
    "\n",
    "s=input(\"Enter the string: \")\n",
    "a=input(\"Enter the character to be removed from the string: \")\n",
    "s1=\"\"\n",
    "for char in s:\n",
    "    if char!=a:\n",
    "        s1+=char\n",
    "print(s1)"
   ]
  },
  {
   "cell_type": "code",
   "execution_count": 18,
   "id": "cfe93bea",
   "metadata": {},
   "outputs": [
    {
     "data": {
      "text/plain": [
       "True"
      ]
     },
     "execution_count": 18,
     "metadata": {},
     "output_type": "execute_result"
    }
   ],
   "source": [
    "# check for palindrome(method-1)\n",
    "\n",
    "def check_palindrome(s):\n",
    "    return s==s[::-1]\n",
    "check_palindrome(\"ssaass\")\n",
    "    "
   ]
  },
  {
   "cell_type": "code",
   "execution_count": 25,
   "id": "c00e1796",
   "metadata": {},
   "outputs": [
    {
     "name": "stdout",
     "output_type": "stream",
     "text": [
      "Enter the string: malayalam\n"
     ]
    },
    {
     "data": {
      "text/plain": [
       "' A palindrome'"
      ]
     },
     "execution_count": 25,
     "metadata": {},
     "output_type": "execute_result"
    }
   ],
   "source": [
    "# check for palindrome(method-2)\n",
    "\n",
    "def check_palindrome1(s):\n",
    "    for i in range(0,len(s)//2):\n",
    "        if s[i]!= s[len(s)-i-1]:\n",
    "            return \"Not a palindrome\"\n",
    "            break\n",
    "    else:\n",
    "        return \" A palindrome\"\n",
    "    \n",
    "s=input(\"Enter the string: \")  \n",
    "check_palindrome1(s)    "
   ]
  },
  {
   "cell_type": "code",
   "execution_count": 28,
   "id": "117c157f",
   "metadata": {},
   "outputs": [
    {
     "name": "stdout",
     "output_type": "stream",
     "text": [
      "enter the string: Smarth KApil is a good boy\n",
      "6\n"
     ]
    }
   ],
   "source": [
    "# No. of words using split(method-1)\n",
    "\n",
    "s=input(\"enter the string: \")\n",
    "l=s.split()\n",
    "print(len(l))"
   ]
  },
  {
   "cell_type": "code",
   "execution_count": 29,
   "id": "ee9d5f01",
   "metadata": {},
   "outputs": [
    {
     "name": "stdout",
     "output_type": "stream",
     "text": [
      "Enter the string: Smarth KApil is a good boy\n",
      "No. of words:  6\n"
     ]
    }
   ],
   "source": [
    "# No. of words  without using split(method-2)\n",
    "\n",
    "s=input(\"Enter the string: \")\n",
    "count=1\n",
    "for char in s:\n",
    "    if char==\" \":\n",
    "        count+=1\n",
    "print(\"No. of words: \",count)"
   ]
  },
  {
   "cell_type": "code",
   "execution_count": 31,
   "id": "6e8ecb5f",
   "metadata": {},
   "outputs": [
    {
     "name": "stdout",
     "output_type": "stream",
     "text": [
      "Enter the string :Smarth KAil\n",
      "['Smarth', 'KAil']\n",
      "2\n"
     ]
    }
   ],
   "source": [
    "# No. of words  without using split(method-3). \n",
    "\n",
    "s=input(\"Enter the string :\")\n",
    "temp=\"\"\n",
    "l1=[]\n",
    "for char in s:\n",
    "    if char!=\" \":\n",
    "        temp+=char\n",
    "    else:\n",
    "        l1.append(temp)\n",
    "        temp=\"\"\n",
    "\n",
    "l1.append(temp)\n",
    "print(l1) \n",
    "print(len(l1))"
   ]
  },
  {
   "cell_type": "code",
   "execution_count": 33,
   "id": "12b76685",
   "metadata": {},
   "outputs": [
    {
     "name": "stdout",
     "output_type": "stream",
     "text": [
      "Enter the string :Hi how are you\n",
      "Hi How Are You\n"
     ]
    }
   ],
   "source": [
    "#Convert string to title case(method-1).Using title() method\n",
    "\n",
    "s=input(\"Enter the string :\")\n",
    "print(s.title())"
   ]
  },
  {
   "cell_type": "code",
   "execution_count": 40,
   "id": "281d7170",
   "metadata": {},
   "outputs": [
    {
     "name": "stdout",
     "output_type": "stream",
     "text": [
      "Enter the string: smarth kapi is a good boy\n",
      "Smarth Kapi Is A Good Boy \n"
     ]
    }
   ],
   "source": [
    "#Convert string to title case(method-2).Without using title() method\n",
    "s=input(\"Enter the string: \")\n",
    "temp=\"\"\n",
    "temp1=\"\"\n",
    "l1=s.split()\n",
    "for word in l1:\n",
    "    one=word[0].upper()\n",
    "    two=word[1:]\n",
    "    temp= temp+one+two\n",
    "    temp1=temp1+temp+\" \"\n",
    "    temp=\"\"\n",
    "\n",
    "print(temp1)\n"
   ]
  },
  {
   "cell_type": "code",
   "execution_count": 36,
   "id": "058390e7",
   "metadata": {},
   "outputs": [
    {
     "name": "stdout",
     "output_type": "stream",
     "text": [
      "Enter the integer: 5\n",
      "<class 'int'>\n",
      "<class 'str'>\n"
     ]
    }
   ],
   "source": [
    "#convert integer to string\n",
    "\n",
    "a=int(input(\"Enter the integer: \"))\n",
    "b=str(a)\n",
    "print(type(a))\n",
    "print(type(b))"
   ]
  },
  {
   "cell_type": "code",
   "execution_count": 43,
   "id": "a0d0db29",
   "metadata": {},
   "outputs": [
    {
     "name": "stdout",
     "output_type": "stream",
     "text": [
      "Enter the string :s d f\n"
     ]
    },
    {
     "ename": "NameError",
     "evalue": "name 'strip' is not defined",
     "output_type": "error",
     "traceback": [
      "\u001b[1;31m---------------------------------------------------------------------------\u001b[0m",
      "\u001b[1;31mNameError\u001b[0m                                 Traceback (most recent call last)",
      "Cell \u001b[1;32mIn[43], line 2\u001b[0m\n\u001b[0;32m      1\u001b[0m s\u001b[38;5;241m=\u001b[39m\u001b[38;5;28minput\u001b[39m(\u001b[38;5;124m\"\u001b[39m\u001b[38;5;124mEnter the string :\u001b[39m\u001b[38;5;124m\"\u001b[39m )\n\u001b[1;32m----> 2\u001b[0m a\u001b[38;5;241m=\u001b[39m\u001b[43mstrip\u001b[49m(s)\n\u001b[0;32m      3\u001b[0m \u001b[38;5;28mprint\u001b[39m(a)\n",
      "\u001b[1;31mNameError\u001b[0m: name 'strip' is not defined"
     ]
    }
   ],
   "source": []
  },
  {
   "cell_type": "code",
   "execution_count": 49,
   "id": "e2d33bc9",
   "metadata": {},
   "outputs": [],
   "source": [
    "def upto_n(myfunc):\n",
    "    def wrapper(*args):\n",
    "        n=args[0]\n",
    "        l1=[]\n",
    "        for i in range(2,n):\n",
    "            result=myfunc(i)\n",
    "            if result:\n",
    "                l1.append(i)\n",
    "        return l1\n",
    "    return wrapper"
   ]
  },
  {
   "cell_type": "code",
   "execution_count": 50,
   "id": "a19181bb",
   "metadata": {},
   "outputs": [
    {
     "name": "stdout",
     "output_type": "stream",
     "text": [
      "[2, 3, 5, 7, 11]\n"
     ]
    }
   ],
   "source": [
    "@upto_n\n",
    "def pr_num(n):\n",
    "    for i in range(2,(n//2)+1):\n",
    "        if(n%i==0):\n",
    "            return False\n",
    "            break\n",
    "    else:\n",
    "        return True\n",
    "print(pr_num(13))"
   ]
  },
  {
   "cell_type": "code",
   "execution_count": 54,
   "id": "8ad04441",
   "metadata": {},
   "outputs": [
    {
     "name": "stdout",
     "output_type": "stream",
     "text": [
      "[4, 9, 16, 25, 36, 49]\n"
     ]
    }
   ],
   "source": [
    "l1=[2,3,4,5,6,7]\n",
    "a=list(map(lambda x: x**2,l1))\n",
    "print(a)"
   ]
  },
  {
   "cell_type": "code",
   "execution_count": 57,
   "id": "9a5310ca",
   "metadata": {},
   "outputs": [
    {
     "name": "stdout",
     "output_type": "stream",
     "text": [
      "<generator object generator at 0x000001D113490C10>\n",
      "0\n",
      "1\n",
      "2\n",
      "3\n",
      "4\n",
      "5\n",
      "6\n",
      "7\n",
      "8\n",
      "9\n"
     ]
    }
   ],
   "source": [
    "def generator(n):\n",
    "    for i in range(0,n):\n",
    "        yield i\n",
    "        \n",
    "print(generator(10))\n",
    "\n",
    "for i in generator(10):\n",
    "    print(i)\n"
   ]
  },
  {
   "cell_type": "code",
   "execution_count": 101,
   "id": "60d77287",
   "metadata": {},
   "outputs": [],
   "source": [
    "#multilevel inheritance(Animal->dog->cat)\n",
    "class Animal:\n",
    "    def __init__(self,specie):\n",
    "        self.specie=specie\n",
    "        \n",
    "class dog(Animal):\n",
    "    def __init__(self,specie,breed):\n",
    "        super().__init__(specie)\n",
    "        self.breed=breed\n",
    "    \n",
    "    def speak(self):\n",
    "        return \"I am a {}, my breed is {}\".format(self.specie,self.breed)\n",
    "    \n",
    "class cat(dog):\n",
    "    def __init__(self,specie,breed):\n",
    "        super().__init__(specie,breed)\n",
    "    def speak(self):\n",
    "        return super().speak()\n",
    "    \n",
    "        "
   ]
  },
  {
   "cell_type": "code",
   "execution_count": 102,
   "id": "9b8d0c8c",
   "metadata": {},
   "outputs": [],
   "source": [
    "dog1=dog(\"Dog\",\"labrador\")"
   ]
  },
  {
   "cell_type": "code",
   "execution_count": 103,
   "id": "81b09766",
   "metadata": {},
   "outputs": [
    {
     "data": {
      "text/plain": [
       "'Dog'"
      ]
     },
     "execution_count": 103,
     "metadata": {},
     "output_type": "execute_result"
    }
   ],
   "source": [
    "dog1.specie"
   ]
  },
  {
   "cell_type": "code",
   "execution_count": 104,
   "id": "ec8770f8",
   "metadata": {},
   "outputs": [
    {
     "data": {
      "text/plain": [
       "'labrador'"
      ]
     },
     "execution_count": 104,
     "metadata": {},
     "output_type": "execute_result"
    }
   ],
   "source": [
    "dog1.breed"
   ]
  },
  {
   "cell_type": "code",
   "execution_count": 105,
   "id": "3be1abb6",
   "metadata": {},
   "outputs": [
    {
     "data": {
      "text/plain": [
       "'I am a Dog, my breed is labrador'"
      ]
     },
     "execution_count": 105,
     "metadata": {},
     "output_type": "execute_result"
    }
   ],
   "source": [
    "dog1.speak()"
   ]
  },
  {
   "cell_type": "code",
   "execution_count": 106,
   "id": "3c78acb3",
   "metadata": {},
   "outputs": [],
   "source": [
    "cat1=cat(\"Cat\",\"Russian Blue\")"
   ]
  },
  {
   "cell_type": "code",
   "execution_count": 109,
   "id": "d648602e",
   "metadata": {},
   "outputs": [
    {
     "name": "stdout",
     "output_type": "stream",
     "text": [
      "Cat\n",
      "Russian Blue\n"
     ]
    }
   ],
   "source": [
    "print(cat1.specie)\n",
    "print(cat1.breed)\n"
   ]
  },
  {
   "cell_type": "code",
   "execution_count": 110,
   "id": "07181467",
   "metadata": {},
   "outputs": [
    {
     "name": "stdout",
     "output_type": "stream",
     "text": [
      "I am a Cat, my breed is Russian Blue\n"
     ]
    }
   ],
   "source": [
    "print(cat1.speak())"
   ]
  },
  {
   "cell_type": "code",
   "execution_count": 112,
   "id": "4014b4d8",
   "metadata": {},
   "outputs": [],
   "source": [
    "# encapsulation in oops\n",
    "\n",
    "class Account:\n",
    "    def __init__(self,balance,name):\n",
    "        self.__bal=balance\n",
    "        self.name=name\n",
    "    def get_balance(self):\n",
    "        return self.__bal\n"
   ]
  },
  {
   "cell_type": "code",
   "execution_count": 114,
   "id": "5d2e6cab",
   "metadata": {},
   "outputs": [],
   "source": [
    "a1=Account(500,\"Smarth\")"
   ]
  },
  {
   "cell_type": "code",
   "execution_count": 115,
   "id": "1804db3f",
   "metadata": {},
   "outputs": [
    {
     "data": {
      "text/plain": [
       "500"
      ]
     },
     "execution_count": 115,
     "metadata": {},
     "output_type": "execute_result"
    }
   ],
   "source": [
    "a1.get_balance()"
   ]
  },
  {
   "cell_type": "code",
   "execution_count": 116,
   "id": "a2cbbe1c",
   "metadata": {},
   "outputs": [
    {
     "data": {
      "text/plain": [
       "'Smarth'"
      ]
     },
     "execution_count": 116,
     "metadata": {},
     "output_type": "execute_result"
    }
   ],
   "source": [
    "a1.name"
   ]
  },
  {
   "cell_type": "code",
   "execution_count": 120,
   "id": "533ab061",
   "metadata": {},
   "outputs": [
    {
     "ename": "AttributeError",
     "evalue": "'Account' object has no attribute 'bal'",
     "output_type": "error",
     "traceback": [
      "\u001b[1;31m---------------------------------------------------------------------------\u001b[0m",
      "\u001b[1;31mAttributeError\u001b[0m                            Traceback (most recent call last)",
      "Cell \u001b[1;32mIn[120], line 1\u001b[0m\n\u001b[1;32m----> 1\u001b[0m \u001b[43ma1\u001b[49m\u001b[38;5;241;43m.\u001b[39;49m\u001b[43mbal\u001b[49m\n",
      "\u001b[1;31mAttributeError\u001b[0m: 'Account' object has no attribute 'bal'"
     ]
    }
   ],
   "source": [
    "a1.bal"
   ]
  },
  {
   "cell_type": "code",
   "execution_count": 121,
   "id": "8baf5c44",
   "metadata": {},
   "outputs": [
    {
     "ename": "AttributeError",
     "evalue": "'Account' object has no attribute 'balance'",
     "output_type": "error",
     "traceback": [
      "\u001b[1;31m---------------------------------------------------------------------------\u001b[0m",
      "\u001b[1;31mAttributeError\u001b[0m                            Traceback (most recent call last)",
      "Cell \u001b[1;32mIn[121], line 1\u001b[0m\n\u001b[1;32m----> 1\u001b[0m \u001b[43ma1\u001b[49m\u001b[38;5;241;43m.\u001b[39;49m\u001b[43mbalance\u001b[49m\n",
      "\u001b[1;31mAttributeError\u001b[0m: 'Account' object has no attribute 'balance'"
     ]
    }
   ],
   "source": [
    "a1.balance"
   ]
  },
  {
   "cell_type": "code",
   "execution_count": 119,
   "id": "d83bfe51",
   "metadata": {},
   "outputs": [
    {
     "data": {
      "text/plain": [
       "500"
      ]
     },
     "execution_count": 119,
     "metadata": {},
     "output_type": "execute_result"
    }
   ],
   "source": [
    "a1._Account__bal"
   ]
  },
  {
   "cell_type": "code",
   "execution_count": 122,
   "id": "407a5c85",
   "metadata": {},
   "outputs": [],
   "source": [
    "# two interface animal and run\n",
    "\n",
    "from abc import ABC, abstractmethod\n",
    "\n",
    "class Animal(ABC):\n",
    "    \n",
    "    @abstractmethod\n",
    "    def speak(self):\n",
    "        pass\n",
    "    \n",
    "class run:\n",
    "    @abstractmethod\n",
    "    def run(self):\n",
    "        passs\n",
    "        \n",
    "class dog(Animal,run):\n",
    "    def speak(self):\n",
    "        return \"Woof\"\n",
    "    def run(self):\n",
    "        return \"Dog is running\"\n",
    "    \n",
    "    "
   ]
  },
  {
   "cell_type": "code",
   "execution_count": 123,
   "id": "1b310b3b",
   "metadata": {},
   "outputs": [],
   "source": [
    "d1=dog()"
   ]
  },
  {
   "cell_type": "code",
   "execution_count": 124,
   "id": "1c82c7cf",
   "metadata": {},
   "outputs": [
    {
     "data": {
      "text/plain": [
       "'Woof'"
      ]
     },
     "execution_count": 124,
     "metadata": {},
     "output_type": "execute_result"
    }
   ],
   "source": [
    "d1.speak()"
   ]
  },
  {
   "cell_type": "code",
   "execution_count": 125,
   "id": "3e3874cf",
   "metadata": {},
   "outputs": [
    {
     "data": {
      "text/plain": [
       "'Dog is running'"
      ]
     },
     "execution_count": 125,
     "metadata": {},
     "output_type": "execute_result"
    }
   ],
   "source": [
    "d1.run()"
   ]
  },
  {
   "cell_type": "code",
   "execution_count": 136,
   "id": "f93259ea",
   "metadata": {},
   "outputs": [],
   "source": [
    "l1=[1,2,1,4,3,2,4,6,5,5,3]"
   ]
  },
  {
   "cell_type": "code",
   "execution_count": 137,
   "id": "b1a50835",
   "metadata": {},
   "outputs": [],
   "source": [
    "dic={}\n",
    "for i in l1:\n",
    "    if i in dic:\n",
    "        dic[i]+=1\n",
    "    else:\n",
    "        dic[i]=1"
   ]
  },
  {
   "cell_type": "code",
   "execution_count": 138,
   "id": "c3ff9ddc",
   "metadata": {},
   "outputs": [
    {
     "name": "stdout",
     "output_type": "stream",
     "text": [
      "{1: 2, 2: 2, 4: 2, 3: 2, 6: 1, 5: 2}\n"
     ]
    }
   ],
   "source": [
    "print(dic)"
   ]
  },
  {
   "cell_type": "code",
   "execution_count": 1,
   "id": "8344277c",
   "metadata": {},
   "outputs": [],
   "source": [
    "# ATM oops\n",
    "\n",
    "# attributes :\n",
    "#     1) balance\n",
    "#     2) pin \n",
    "# methods:\n",
    "#     2) deposit\n",
    "#     3) withdrawal\n",
    "#     4) check balance\n",
    "#     5) create pin\n",
    "    \n",
    "class ATM:\n",
    "    def __init__(self):\n",
    "        self.__pin=0\n",
    "        self.balance=0\n",
    "        \n",
    "        self.menu()\n",
    "    \n",
    "    def create_pin(self,pin):\n",
    "        self.__pin=pin\n",
    "        \n",
    "    def withdrawal(self,withdraw):\n",
    "        if self.balance>0:\n",
    "            self.balance=self.balance-withdraw\n",
    "            return \"Balance left is {}\".format(self.balance)\n",
    "        else:\n",
    "            return \"No sufficient bank balance\"\n",
    "        \n",
    "    def check_balance(self):\n",
    "        return \"Balance is {}\".format(self.balance)\n",
    "    \n",
    "    \n",
    "    def deposit(self,deposit_money):\n",
    "        self.balance=self.balance+deposit_money\n",
    "        return \"New balance is: {}\".format(self.balance)\n",
    "    \n",
    "    def menu(self):\n",
    "        while True:\n",
    "            user_input=int(input(\"\"\"\n",
    "            1) Enter 1 to create pin\n",
    "            2) Enter 2 to deposit money\n",
    "            3) Enter 3 to withdraw money\n",
    "            4) Enter 4 to check balance\n",
    "            5) Enter 5 to exit\n",
    "            \"\"\"))\n",
    "            \n",
    "            if user_input==1:\n",
    "                self.create_pin(int(input(\"Enter the pin: \")))\n",
    "            if user_input==2:\n",
    "                print(self.deposit(int(input(\"Enter the amount for deposit\"))))\n",
    "            if user_input==3:\n",
    "                print(self.withdrawal(int(input(\"Enter amount to be withdrawan: \"))))\n",
    "            if user_input==4:\n",
    "                print(self.check_balance())\n",
    "            if user_input==5:\n",
    "                print(\"exit\")\n",
    "                break\n",
    "            \n",
    "            \n",
    "    \n",
    "    \n",
    "        \n",
    "        \n",
    "        \n",
    "       \n",
    "    \n",
    "        "
   ]
  },
  {
   "cell_type": "code",
   "execution_count": 2,
   "id": "c4376b73",
   "metadata": {},
   "outputs": [
    {
     "name": "stdout",
     "output_type": "stream",
     "text": [
      "\n",
      "            1) Enter 1 to create pin\n",
      "            2) Enter 2 to deposit money\n",
      "            3) Enter 3 to withdraw money\n",
      "            4) Enter 4 to check balance\n",
      "            5) Enter 5 to exit\n",
      "            1\n",
      "Enter the pin: 123\n",
      "\n",
      "            1) Enter 1 to create pin\n",
      "            2) Enter 2 to deposit money\n",
      "            3) Enter 3 to withdraw money\n",
      "            4) Enter 4 to check balance\n",
      "            5) Enter 5 to exit\n",
      "            4\n",
      "Balance is 0\n",
      "\n",
      "            1) Enter 1 to create pin\n",
      "            2) Enter 2 to deposit money\n",
      "            3) Enter 3 to withdraw money\n",
      "            4) Enter 4 to check balance\n",
      "            5) Enter 5 to exit\n",
      "            2\n",
      "Enter the amount for deposit220\n",
      "New balance is: 220\n",
      "\n",
      "            1) Enter 1 to create pin\n",
      "            2) Enter 2 to deposit money\n",
      "            3) Enter 3 to withdraw money\n",
      "            4) Enter 4 to check balance\n",
      "            5) Enter 5 to exit\n",
      "            3\n",
      "Enter amount to be withdrawan: 100\n",
      "Balance left is 120\n",
      "\n",
      "            1) Enter 1 to create pin\n",
      "            2) Enter 2 to deposit money\n",
      "            3) Enter 3 to withdraw money\n",
      "            4) Enter 4 to check balance\n",
      "            5) Enter 5 to exit\n",
      "            5\n",
      "exit\n"
     ]
    }
   ],
   "source": [
    "a1=ATM()"
   ]
  },
  {
   "cell_type": "code",
   "execution_count": 3,
   "id": "992dcef9",
   "metadata": {},
   "outputs": [],
   "source": [
    "# Class v/s static methods\n",
    "class car:\n",
    "    brand=\"Toyota\"\n",
    "    \n",
    "    def __init__(self):\n",
    "        pass\n",
    "    @staticmethod\n",
    "    def sound():\n",
    "        return \"Sounds amazing\"\n",
    "    @classmethod\n",
    "    def change_brand(cls,brand):\n",
    "        cls.brand=brand\n",
    "       "
   ]
  },
  {
   "cell_type": "code",
   "execution_count": 4,
   "id": "2f8ec133",
   "metadata": {},
   "outputs": [
    {
     "data": {
      "text/plain": [
       "'Toyota'"
      ]
     },
     "execution_count": 4,
     "metadata": {},
     "output_type": "execute_result"
    }
   ],
   "source": [
    "car.brand"
   ]
  },
  {
   "cell_type": "code",
   "execution_count": 5,
   "id": "44a45107",
   "metadata": {},
   "outputs": [
    {
     "data": {
      "text/plain": [
       "'Mclaren'"
      ]
     },
     "execution_count": 5,
     "metadata": {},
     "output_type": "execute_result"
    }
   ],
   "source": [
    "car.change_brand(\"Mclaren\")\n",
    "car.brand"
   ]
  },
  {
   "cell_type": "code",
   "execution_count": 7,
   "id": "6eac56dc",
   "metadata": {},
   "outputs": [
    {
     "data": {
      "text/plain": [
       "'Sounds amazing'"
      ]
     },
     "execution_count": 7,
     "metadata": {},
     "output_type": "execute_result"
    }
   ],
   "source": [
    "car.sound()"
   ]
  },
  {
   "cell_type": "code",
   "execution_count": null,
   "id": "bc014b1f",
   "metadata": {},
   "outputs": [],
   "source": []
  },
  {
   "cell_type": "code",
   "execution_count": 6,
   "id": "7258c322",
   "metadata": {},
   "outputs": [
    {
     "data": {
      "text/plain": [
       "[1, 4, 9, 16, 25, 36, 49, 64]"
      ]
     },
     "execution_count": 6,
     "metadata": {},
     "output_type": "execute_result"
    }
   ],
   "source": [
    "l1=[1,2,3,4,5,6,7,8]\n",
    "a=map(lambda x: x**2, l1)\n",
    "b=list(a)\n",
    "b"
   ]
  },
  {
   "cell_type": "code",
   "execution_count": 7,
   "id": "502dd798",
   "metadata": {},
   "outputs": [
    {
     "name": "stdout",
     "output_type": "stream",
     "text": [
      "[9, 16, 25, 36, 49, 64, 81]\n"
     ]
    }
   ],
   "source": [
    "#first filter then map\n",
    "\n",
    "l2=[1,2,3,4,5,6,7,8,9]\n",
    "result=map(lambda x: x**2,filter(lambda x: x>2,l2))\n",
    "print(list(result))"
   ]
  },
  {
   "cell_type": "code",
   "execution_count": 11,
   "id": "be39b653",
   "metadata": {},
   "outputs": [
    {
     "name": "stdout",
     "output_type": "stream",
     "text": [
      "[16, 25, 36, 49, 64]\n"
     ]
    }
   ],
   "source": [
    "# first map then filter\n",
    "\n",
    "l1=[1,2,3,4,5,6,7,8]\n",
    "a=map(lambda x: x**2, l1)\n",
    "b=filter(lambda x: x>10,a)\n",
    "print(list(b))"
   ]
  },
  {
   "cell_type": "markdown",
   "id": "e925329a",
   "metadata": {},
   "source": [
    "# Practice questions on oops"
   ]
  },
  {
   "cell_type": "code",
   "execution_count": 2,
   "id": "d5cdf134",
   "metadata": {},
   "outputs": [
    {
     "name": "stdout",
     "output_type": "stream",
     "text": [
      "100\n",
      "20\n"
     ]
    }
   ],
   "source": [
    "# Write a Python program to create a Vehicle class with max_speed \n",
    "# and mileage instance attributes.\n",
    "\n",
    "class Vehicle:\n",
    "    def __init__(self,max_speed,mileage):\n",
    "        self.max_speed=max_speed\n",
    "        self.mileage=mileage\n",
    "\n",
    "v1=Vehicle(100,20)        \n",
    "print(v1.max_speed)\n",
    "print(v1.mileage)"
   ]
  },
  {
   "cell_type": "code",
   "execution_count": 5,
   "id": "2a1c79ad",
   "metadata": {},
   "outputs": [
    {
     "name": "stdout",
     "output_type": "stream",
     "text": [
      "<class '__main__.vehicle'>\n"
     ]
    }
   ],
   "source": [
    "# Create a Vehicle class without any variables and methods\n",
    "\n",
    "class vehicle:\n",
    "    pass # default constructor is run automatically\n",
    "v2=vehicle\n",
    "print(v2)"
   ]
  },
  {
   "cell_type": "code",
   "execution_count": 7,
   "id": "2eec5b39",
   "metadata": {},
   "outputs": [
    {
     "name": "stdout",
     "output_type": "stream",
     "text": [
      "100\n",
      "20\n",
      "VOlvo\n"
     ]
    }
   ],
   "source": [
    "# Create a child class Bus that will inherit all of the variables and \n",
    "# methods of the Vehicle class\n",
    "\n",
    "class Vehicle:\n",
    "\n",
    "    def __init__(self, name, max_speed, mileage):\n",
    "        self.name = name\n",
    "        self.max_speed = max_speed\n",
    "        self.mileage = mileage\n",
    "        \n",
    "class Bus(Vehicle):\n",
    "    pass\n",
    "\n",
    "        \n",
    "b1=Bus(\"VOlvo\",100,20)\n",
    "print(b1.max_speed)\n",
    "print(b1.mileage)\n",
    "print(b1.name)"
   ]
  },
  {
   "cell_type": "code",
   "execution_count": 8,
   "id": "ea50fa33",
   "metadata": {},
   "outputs": [
    {
     "name": "stdout",
     "output_type": "stream",
     "text": [
      "The seating capacity of a VOlvo is 50 passengers\n"
     ]
    }
   ],
   "source": [
    "# Create a Bus class that inherits from the Vehicle class. \n",
    "# Give the capacity argument of Bus.seating_capacity() a default \n",
    "# value of 50.\n",
    "\n",
    "class Vehicle:\n",
    "    def __init__(self, name, max_speed, mileage):\n",
    "        self.name = name\n",
    "        self.max_speed = max_speed\n",
    "        self.mileage = mileage\n",
    "\n",
    "    def seating_capacity(self, capacity):\n",
    "        return f\"The seating capacity of a {self.name} is {capacity} passengers\"\n",
    "    \n",
    "\n",
    "    \n",
    "class Bus(Vehicle):\n",
    "    def seating_capacity(self, capacity=50):\n",
    "        self.capacity=capacity\n",
    "        return f\"The seating capacity of a {self.name} is {capacity} passengers\"\n",
    "\n",
    "b1=Bus(\"VOlvo\",100,20)\n",
    "print(b1.seating_capacity())\n",
    "        \n",
    "    "
   ]
  },
  {
   "cell_type": "code",
   "execution_count": 11,
   "id": "e8e7404c",
   "metadata": {},
   "outputs": [
    {
     "name": "stdout",
     "output_type": "stream",
     "text": [
      "white\n",
      "white\n"
     ]
    }
   ],
   "source": [
    "# Define a class attribute”color” with a default value white. \n",
    "# I.e., Every Vehicle should be white.\n",
    "\n",
    "class Vehicle:\n",
    "    \n",
    "    color=\"white\"\n",
    "    \n",
    "    def __init__(self, name, max_speed, mileage):\n",
    "        self.name = name\n",
    "        self.max_speed = max_speed\n",
    "        self.mileage = mileage\n",
    "\n",
    "class Bus(Vehicle):\n",
    "    pass\n",
    "\n",
    "class Car(Vehicle):\n",
    "    pass\n",
    "\n",
    "\n",
    "b1=Bus(\"VOlvo\",100,20)\n",
    "print(b1.color)\n",
    "\n",
    "c1=Car(\"Supra\",260,3)\n",
    "print(c1.color)"
   ]
  },
  {
   "cell_type": "code",
   "execution_count": 12,
   "id": "7381f6c1",
   "metadata": {},
   "outputs": [
    {
     "name": "stdout",
     "output_type": "stream",
     "text": [
      "Total Bus fare is: 5500.0\n"
     ]
    }
   ],
   "source": [
    "# Create a Bus child class that inherits from the Vehicle class. \n",
    "# The default fare charge of any vehicle is seating capacity * 100. \n",
    "# If Vehicle is Bus instance, we need to add an extra 10% on full fare \n",
    "# as a maintenance charge. So total fare for bus instance will become \n",
    "# the final amount = total fare + 10% of the total fare.\n",
    "\n",
    "# Note: The bus seating capacity is 50. so the final fare amount \n",
    "# should be 5500. You need to override the fare() method of a \n",
    "# Vehicle class in Bus class.\n",
    "\n",
    "class Vehicle:\n",
    "    def __init__(self, name, mileage, capacity):\n",
    "        self.name = name\n",
    "        self.mileage = mileage\n",
    "        self.capacity = capacity\n",
    "\n",
    "    def fare(self):\n",
    "        return self.capacity * 100\n",
    "\n",
    "class Bus(Vehicle):\n",
    "    def fare(self):\n",
    "        return (self.capacity * 100) + (.1 * self.capacity * 100)\n",
    "\n",
    "School_bus = Bus(\"School Volvo\", 12, 50)\n",
    "print(\"Total Bus fare is:\", School_bus.fare())"
   ]
  },
  {
   "cell_type": "code",
   "execution_count": 13,
   "id": "e22ce17e",
   "metadata": {},
   "outputs": [
    {
     "data": {
      "text/plain": [
       "__main__.Bus"
      ]
     },
     "execution_count": 13,
     "metadata": {},
     "output_type": "execute_result"
    }
   ],
   "source": [
    "# Write a program to determine which class a given Bus object \n",
    "# belongs to.\n",
    "\n",
    "class Vehicle:\n",
    "    def __init__(self, name, mileage, capacity):\n",
    "        self.name = name\n",
    "        self.mileage = mileage\n",
    "        self.capacity = capacity\n",
    "\n",
    "class Bus(Vehicle):\n",
    "    pass\n",
    "\n",
    "School_bus = Bus(\"School Volvo\", 12, 50)\n",
    "type(School_bus)\n"
   ]
  },
  {
   "cell_type": "code",
   "execution_count": 14,
   "id": "205c55a4",
   "metadata": {},
   "outputs": [
    {
     "data": {
      "text/plain": [
       "True"
      ]
     },
     "execution_count": 14,
     "metadata": {},
     "output_type": "execute_result"
    }
   ],
   "source": [
    "# Determine if School_bus is also an instance of the Vehicle class\n",
    "\n",
    "class Vehicle:\n",
    "    def __init__(self, name, mileage, capacity):\n",
    "        self.name = name\n",
    "        self.mileage = mileage\n",
    "        self.capacity = capacity\n",
    "\n",
    "class Bus(Vehicle):\n",
    "    pass\n",
    "\n",
    "School_bus = Bus(\"School Volvo\", 12, 50)\n",
    "isinstance(School_bus,Vehicle)"
   ]
  },
  {
   "cell_type": "markdown",
   "id": "00bc0521",
   "metadata": {},
   "source": [
    "# Exercise 1: Modeling a Bank Account"
   ]
  },
  {
   "cell_type": "markdown",
   "id": "50340dbd",
   "metadata": {},
   "source": [
    "Financial applications commonly use OOP principles. This exercise models a simple bank account as a Python class.\n",
    "\n",
    "First, identify the attributes and behaviors of a bank account:\n",
    "\n",
    "Attributes: account number, account holder name, balance\n",
    "Behaviors: depositing, withdrawing, checking balance\n",
    "Next, define a BankAccount class with an initializer taking account number, name, and initial deposit as parameters. Include methods to deposit, withdraw, and check balances:"
   ]
  },
  {
   "cell_type": "code",
   "execution_count": 24,
   "id": "c45dcfd4",
   "metadata": {},
   "outputs": [
    {
     "name": "stdout",
     "output_type": "stream",
     "text": [
      "\n",
      "            1) Enter 1 to deposit money\n",
      "            2) Enter 2 to withdraw money\n",
      "            3) Enter 3 to check balance\n",
      "            4) Enter 4 to exit\n",
      "            3\n",
      "The current amount in your account is:  600\n",
      "\n",
      "            1) Enter 1 to deposit money\n",
      "            2) Enter 2 to withdraw money\n",
      "            3) Enter 3 to check balance\n",
      "            4) Enter 4 to exit\n",
      "            3\n",
      "The current amount in your account is:  600\n",
      "\n",
      "            1) Enter 1 to deposit money\n",
      "            2) Enter 2 to withdraw money\n",
      "            3) Enter 3 to check balance\n",
      "            4) Enter 4 to exit\n",
      "            2\n",
      "Enter amount to be withdrawan: 200\n",
      "Amount before withdraw:  600\n",
      "Amount after withdraw:  400\n",
      "\n",
      "            1) Enter 1 to deposit money\n",
      "            2) Enter 2 to withdraw money\n",
      "            3) Enter 3 to check balance\n",
      "            4) Enter 4 to exit\n",
      "            1\n",
      "Enter the amount for deposit500\n",
      "Amount before deposit:  400\n",
      "Amount after deposit:  900\n",
      "\n",
      "            1) Enter 1 to deposit money\n",
      "            2) Enter 2 to withdraw money\n",
      "            3) Enter 3 to check balance\n",
      "            4) Enter 4 to exit\n",
      "            4\n",
      "exit\n"
     ]
    }
   ],
   "source": [
    "class BankAccount:\n",
    "    def __init__(self,acc_num,name,bal):\n",
    "        self.__acc_num=acc_num\n",
    "        self.__name=name\n",
    "        self.__bal=bal\n",
    "        \n",
    "        self.menu() #using method insisde class itself.\n",
    "    \n",
    "    def deposit(self,deposit):\n",
    "        print(\"Amount before deposit: \", self.__bal)\n",
    "        self.__bal= self.__bal+deposit\n",
    "        print(\"Amount after deposit: \", self.__bal)\n",
    "    \n",
    "    def withdraw(self,amount):\n",
    "        if self.__bal<amount:\n",
    "            print(\"Low balance\")\n",
    "            print(\"Available balance is :\",self.__bal)\n",
    "        else:\n",
    "            print(\"Amount before withdraw: \", self.__bal)\n",
    "            self.__bal= self.__bal-amount\n",
    "            print(\"Amount after withdraw: \", self.__bal)\n",
    "            \n",
    "    def check_balance(self):\n",
    "        print(\"The current amount in your account is: \",self.__bal)\n",
    "    \n",
    "    def menu(self):\n",
    "        while True:\n",
    "            user_input=int(input(\"\"\"\n",
    "            1) Enter 1 to deposit money\n",
    "            2) Enter 2 to withdraw money\n",
    "            3) Enter 3 to check balance\n",
    "            4) Enter 4 to exit\n",
    "            \"\"\"))\n",
    "            \n",
    "            if user_input==1:\n",
    "                self.deposit(int(input(\"Enter the amount for deposit\")))\n",
    "            if user_input==2:\n",
    "                self.withdraw(int(input(\"Enter amount to be withdrawan: \")))\n",
    "            if user_input==3:\n",
    "                self.check_balance()\n",
    "            if user_input==4:\n",
    "                print(\"exit\")\n",
    "                break\n",
    "\n",
    "a1=BankAccount(123,\"Smarth\",600)"
   ]
  },
  {
   "cell_type": "code",
   "execution_count": 34,
   "id": "ea52c1b3",
   "metadata": {},
   "outputs": [
    {
     "name": "stdout",
     "output_type": "stream",
     "text": [
      "List of students enrolled in Calculus before adding:  []\n",
      "List of courses student John Doe is enrolled in:  ['Calculus']\n",
      "List of students enrolled in Calculus after adding:  ['John Doe']\n",
      "List of students enrolled in Calculus before adding:  ['John Doe']\n",
      "List of courses student Jane Doe is enrolled in:  ['Calculus']\n",
      "List of students enrolled in Calculus after adding:  ['John Doe', 'Jane Doe']\n",
      "List of students enrolled in Calculus before adding:  ['John Doe', 'Jane Doe']\n",
      "List of courses student Mark Lee is enrolled in:  ['Calculus']\n",
      "List of students enrolled in Calculus after adding:  ['John Doe', 'Jane Doe', 'Mark Lee']\n",
      "List of students enrolled in Calculus:  ['John Doe', 'Jane Doe', 'Mark Lee']\n",
      "List of courses before withdrawal for John Doe:  ['Calculus']\n",
      "List of courses after withdrawal for John Doe:  []\n",
      "List of students enrolled in Calculus before removing:  ['John Doe', 'Jane Doe', 'Mark Lee']\n",
      "List of students enrolled in Calculus after removing:  ['Jane Doe', 'Mark Lee']\n",
      "List of students enrolled in Calculus:  ['Jane Doe', 'Mark Lee']\n",
      "List of courses John Doe is enrolled in:  []\n"
     ]
    }
   ],
   "source": [
    "class Student:\n",
    "    def __init__(self, name, iden):\n",
    "        self.name = name\n",
    "        self.iden = iden\n",
    "        self.courses = []\n",
    "        \n",
    "    def enrolling(self, course):\n",
    "        self.courses.append(course)  \n",
    "        print(f\"List of courses student {self.name} is enrolled in: \", [course.title for course in self.courses])\n",
    "        \n",
    "    def dropping(self, course):\n",
    "        for c in self.courses:\n",
    "            if c.title == course.title:\n",
    "                print(f\"List of courses before withdrawal for {self.name}: \", [course.title for course in self.courses])\n",
    "                self.courses.remove(c)  \n",
    "\n",
    "                print(f\"List of courses after withdrawal for {self.name}: \", [course.title for course in self.courses])\n",
    "                course.drop_student(self)\n",
    "    def view(self):\n",
    "        print(f\"List of courses {self.name} is enrolled in: \", [course.title for course in self.courses])\n",
    "\n",
    "\n",
    "class Course:\n",
    "    def __init__(self, title, instructor, max_students):\n",
    "        self.title = title\n",
    "        self.instructor = instructor\n",
    "        self.max_students = max_students\n",
    "        self.student_list = []\n",
    "        \n",
    "    def add_student(self, student):\n",
    "        if len(self.student_list) < self.max_students:\n",
    "            print(f\"List of students enrolled in {self.title} before adding: \", [s.name for s in self.student_list])\n",
    "            self.student_list.append(student) \n",
    "            student.enrolling(self)  \n",
    "            print(f\"List of students enrolled in {self.title} after adding: \", [s.name for s in self.student_list])\n",
    "        else:\n",
    "            print(f\"Course {self.title} is already full\")\n",
    "\n",
    "    def drop_student(self, student):\n",
    "        print(f\"List of students enrolled in {self.title} before removing: \", [s.name for s in self.student_list])\n",
    "        self.student_list.remove(student)  \n",
    "        print(f\"List of students enrolled in {self.title} after removing: \", [s.name for s in self.student_list])\n",
    "            \n",
    "    def view_students(self):\n",
    "        print(f\"List of students enrolled in {self.title}: \", [s.name for s in self.student_list])\n",
    "\n",
    "\n",
    "\n",
    "math101 = Course(\"Calculus\", \"Dr. Smith\", 3)\n",
    "john = Student(\"John Doe\", \"12345\")\n",
    "jane = Student(\"Jane Doe\", \"67890\")\n",
    "mark = Student(\"Mark Lee\", \"11111\")\n",
    "\n",
    "math101.add_student(john)\n",
    "math101.add_student(jane)\n",
    "math101.add_student(mark)\n",
    "\n",
    "\n",
    "math101.view_students()\n",
    "\n",
    "john.dropping(math101)  \n",
    "\n",
    "\n",
    "math101.view_students()\n",
    "\n",
    "john.view()\n"
   ]
  },
  {
   "cell_type": "code",
   "execution_count": 35,
   "id": "76a490c3",
   "metadata": {},
   "outputs": [
    {
     "name": "stdout",
     "output_type": "stream",
     "text": [
      "List of courses before withdrawal for Jane Doe:  ['Calculus']\n",
      "List of courses after withdrawal for Jane Doe:  []\n",
      "List of students enrolled in Calculus before removing:  ['Jane Doe', 'Mark Lee']\n",
      "List of students enrolled in Calculus after removing:  ['Mark Lee']\n"
     ]
    }
   ],
   "source": [
    "jane.dropping(math101)"
   ]
  },
  {
   "cell_type": "code",
   "execution_count": 36,
   "id": "4f6c7545",
   "metadata": {},
   "outputs": [
    {
     "name": "stdout",
     "output_type": "stream",
     "text": [
      "List of students enrolled in Calculus:  ['Mark Lee']\n"
     ]
    }
   ],
   "source": [
    "math101.view_students()"
   ]
  },
  {
   "cell_type": "markdown",
   "id": "31aa59e8",
   "metadata": {},
   "source": [
    "# Basic python coding"
   ]
  },
  {
   "cell_type": "code",
   "execution_count": 45,
   "id": "0e36d7f2",
   "metadata": {},
   "outputs": [
    {
     "name": "stdout",
     "output_type": "stream",
     "text": [
      "10\n",
      "21\n",
      "33\n",
      "46\n",
      "60\n"
     ]
    }
   ],
   "source": [
    "# Print the Sum of a Current Number and a Previous number\n",
    "#rolling sum\n",
    "\n",
    "low=int(input(\"Enter the lower range value: \"))\n",
    "high=int(input(\"Enter the higher range value: \"))\n",
    "sum1=0\n",
    "for num in range(low,high):\n",
    "    if i==low:\n",
    "        print(low)\n",
    "        sum1=low\n",
    "    else:\n",
    "        sum1=sum1+num\n",
    "        print(sum1)\n",
    "        \n",
    "        \n",
    "    \n",
    "    \n",
    "    \n",
    "        \n",
    "        \n",
    "    "
   ]
  },
  {
   "cell_type": "code",
   "execution_count": 40,
   "id": "e0d46dda",
   "metadata": {},
   "outputs": [
    {
     "name": "stdout",
     "output_type": "stream",
     "text": [
      "0 P\n",
      "2 t\n",
      "4 o\n"
     ]
    }
   ],
   "source": [
    "# characters at even index numbers\n",
    "\n",
    "s=\"Python\"\n",
    "for index,char in enumerate(s):\n",
    "    if index%2==0:\n",
    "        print(index,char)"
   ]
  },
  {
   "cell_type": "code",
   "execution_count": 46,
   "id": "beab881a",
   "metadata": {},
   "outputs": [
    {
     "name": "stdout",
     "output_type": "stream",
     "text": [
      "Enter the string: Smarth\n",
      "Enter the no. of characters to be removed: 2\n",
      "arth\n"
     ]
    }
   ],
   "source": [
    "# Remove first n characters from a string\n",
    "\n",
    "s=input(\"Enter the string: \")\n",
    "a=int(input(\"Enter the no. of characters to be removed: \"))\n",
    "s=s[a::]\n",
    "print(s)"
   ]
  },
  {
   "cell_type": "code",
   "execution_count": 49,
   "id": "9e6a0134",
   "metadata": {},
   "outputs": [
    {
     "name": "stdout",
     "output_type": "stream",
     "text": [
      "Enter the string: Emma stone is great but Emma watson is best\n",
      "The count is:  2\n"
     ]
    }
   ],
   "source": [
    "# Find the number of occurrences of a substring in a string\n",
    "\n",
    "count=0\n",
    "s=input(\"Enter the string: \")\n",
    "l1=s.split()\n",
    "for word in l1:\n",
    "    if word==\"Emma\":\n",
    "        count+=1\n",
    "    else:\n",
    "        pass\n",
    "print(\"The count is: \",count)"
   ]
  },
  {
   "cell_type": "code",
   "execution_count": 56,
   "id": "e4307b32",
   "metadata": {},
   "outputs": [
    {
     "name": "stdout",
     "output_type": "stream",
     "text": [
      "1 \n",
      "\n",
      "2 2 \n",
      "\n",
      "3 3 3 \n",
      "\n",
      "4 4 4 4 \n",
      "\n",
      "5 5 5 5 5 \n",
      "\n"
     ]
    }
   ],
   "source": [
    "for i in range(1,6):\n",
    "    for j in range(0,i):\n",
    "        print(i,end=\" \")\n",
    "    print(\"\\n\")"
   ]
  },
  {
   "cell_type": "code",
   "execution_count": 59,
   "id": "e5439940",
   "metadata": {},
   "outputs": [
    {
     "name": "stdout",
     "output_type": "stream",
     "text": [
      "Enter the number: 123\n",
      "3 2 1\n"
     ]
    }
   ],
   "source": [
    "a=int(input(\"Enter the number: \"))\n",
    "b=str(a)\n",
    "b=b[::-1]\n",
    "l1=[]\n",
    "for char in b:\n",
    "    l1.append(char)\n",
    "c=\" \".join(l1)   \n",
    "print(c)"
   ]
  },
  {
   "cell_type": "code",
   "execution_count": 60,
   "id": "62207378",
   "metadata": {},
   "outputs": [
    {
     "name": "stdout",
     "output_type": "stream",
     "text": [
      "1 * 1 = 1\n",
      "1 * 2 = 2\n",
      "1 * 3 = 3\n",
      "1 * 4 = 4\n",
      "1 * 5 = 5\n",
      "1 * 6 = 6\n",
      "1 * 7 = 7\n",
      "1 * 8 = 8\n",
      "1 * 9 = 9\n",
      "1 * 10 = 10\n",
      "2 * 1 = 2\n",
      "2 * 2 = 4\n",
      "2 * 3 = 6\n",
      "2 * 4 = 8\n",
      "2 * 5 = 10\n",
      "2 * 6 = 12\n",
      "2 * 7 = 14\n",
      "2 * 8 = 16\n",
      "2 * 9 = 18\n",
      "2 * 10 = 20\n",
      "3 * 1 = 3\n",
      "3 * 2 = 6\n",
      "3 * 3 = 9\n",
      "3 * 4 = 12\n",
      "3 * 5 = 15\n",
      "3 * 6 = 18\n",
      "3 * 7 = 21\n",
      "3 * 8 = 24\n",
      "3 * 9 = 27\n",
      "3 * 10 = 30\n",
      "4 * 1 = 4\n",
      "4 * 2 = 8\n",
      "4 * 3 = 12\n",
      "4 * 4 = 16\n",
      "4 * 5 = 20\n",
      "4 * 6 = 24\n",
      "4 * 7 = 28\n",
      "4 * 8 = 32\n",
      "4 * 9 = 36\n",
      "4 * 10 = 40\n",
      "5 * 1 = 5\n",
      "5 * 2 = 10\n",
      "5 * 3 = 15\n",
      "5 * 4 = 20\n",
      "5 * 5 = 25\n",
      "5 * 6 = 30\n",
      "5 * 7 = 35\n",
      "5 * 8 = 40\n",
      "5 * 9 = 45\n",
      "5 * 10 = 50\n",
      "6 * 1 = 6\n",
      "6 * 2 = 12\n",
      "6 * 3 = 18\n",
      "6 * 4 = 24\n",
      "6 * 5 = 30\n",
      "6 * 6 = 36\n",
      "6 * 7 = 42\n",
      "6 * 8 = 48\n",
      "6 * 9 = 54\n",
      "6 * 10 = 60\n",
      "7 * 1 = 7\n",
      "7 * 2 = 14\n",
      "7 * 3 = 21\n",
      "7 * 4 = 28\n",
      "7 * 5 = 35\n",
      "7 * 6 = 42\n",
      "7 * 7 = 49\n",
      "7 * 8 = 56\n",
      "7 * 9 = 63\n",
      "7 * 10 = 70\n",
      "8 * 1 = 8\n",
      "8 * 2 = 16\n",
      "8 * 3 = 24\n",
      "8 * 4 = 32\n",
      "8 * 5 = 40\n",
      "8 * 6 = 48\n",
      "8 * 7 = 56\n",
      "8 * 8 = 64\n",
      "8 * 9 = 72\n",
      "8 * 10 = 80\n",
      "9 * 1 = 9\n",
      "9 * 2 = 18\n",
      "9 * 3 = 27\n",
      "9 * 4 = 36\n",
      "9 * 5 = 45\n",
      "9 * 6 = 54\n",
      "9 * 7 = 63\n",
      "9 * 8 = 72\n",
      "9 * 9 = 81\n",
      "9 * 10 = 90\n",
      "10 * 1 = 10\n",
      "10 * 2 = 20\n",
      "10 * 3 = 30\n",
      "10 * 4 = 40\n",
      "10 * 5 = 50\n",
      "10 * 6 = 60\n",
      "10 * 7 = 70\n",
      "10 * 8 = 80\n",
      "10 * 9 = 90\n",
      "10 * 10 = 100\n"
     ]
    }
   ],
   "source": [
    "# tble from 1 to 10\n",
    "for i in range(1,11):\n",
    "    for j in range(1,11):\n",
    "        print(i,\"*\",j,\"=\",i*j )\n",
    "    "
   ]
  },
  {
   "cell_type": "code",
   "execution_count": 54,
   "id": "f4c0b01f",
   "metadata": {},
   "outputs": [
    {
     "name": "stdout",
     "output_type": "stream",
     "text": [
      "1\n",
      "2\n",
      "Fizz\n",
      "4\n",
      "Buzz\n",
      "Fizz\n",
      "7\n",
      "8\n",
      "Fizz\n",
      "Buzz\n",
      "11\n",
      "Fizz\n",
      "13\n",
      "14\n",
      "FIzzBuzz\n",
      "16\n",
      "17\n",
      "Fizz\n",
      "19\n"
     ]
    }
   ],
   "source": [
    "## sequence matters as : if  i%3==0 and i%5==0: comes in last then \n",
    "# fizz will be printed for n=15 because first it will be checked \n",
    "# if it is divisile by 3 and if not then for divisible by \n",
    "# 5 and at last for divisibility both 3 and 5\n",
    "\n",
    "for i in range(1,20):\n",
    "    if i%3==0 and i%5==0:\n",
    "        print(\"FIzzBuzz\")\n",
    "    elif i%3==0:\n",
    "        print(\"Fizz\")\n",
    "    elif(i%5==0):\n",
    "        print(\"Buzz\")\n",
    "    else:\n",
    "        print(i)"
   ]
  },
  {
   "cell_type": "code",
   "execution_count": 63,
   "id": "0c180462",
   "metadata": {},
   "outputs": [
    {
     "name": "stdout",
     "output_type": "stream",
     "text": [
      "* * * * * \n",
      "\n",
      "* * * * \n",
      "\n",
      "* * * \n",
      "\n",
      "* * \n",
      "\n",
      "* \n",
      "\n"
     ]
    }
   ],
   "source": [
    "# downward half-pyramid pattern of stars\n",
    "\n",
    "for i in range(5,0,-1):\n",
    "    for j in range(0,i):\n",
    "        print(\"*\", end=\" \")\n",
    "    print(\"\\n\")\n",
    "        \n",
    "    "
   ]
  },
  {
   "cell_type": "markdown",
   "id": "c3835c24",
   "metadata": {},
   "source": [
    "# File Handling"
   ]
  },
  {
   "cell_type": "code",
   "execution_count": 110,
   "id": "9ad0bbf3",
   "metadata": {},
   "outputs": [],
   "source": [
    "f=open(r\"C:\\Users\\smart\\Downloads\\IO TESTING.txt\")"
   ]
  },
  {
   "cell_type": "code",
   "execution_count": 111,
   "id": "74dae33d",
   "metadata": {},
   "outputs": [],
   "source": [
    "data=f.read() "
   ]
  },
  {
   "cell_type": "code",
   "execution_count": 112,
   "id": "fec6b0ca",
   "metadata": {},
   "outputs": [
    {
     "data": {
      "text/plain": [
       "'Hi. My name is Smarth KApil.\\nI am an AI ML intern at netsmartz. creating this file for I/O operation'"
      ]
     },
     "execution_count": 112,
     "metadata": {},
     "output_type": "execute_result"
    }
   ],
   "source": [
    "data"
   ]
  },
  {
   "cell_type": "code",
   "execution_count": 113,
   "id": "7d0d9deb",
   "metadata": {},
   "outputs": [],
   "source": [
    "f.close()"
   ]
  },
  {
   "cell_type": "code",
   "execution_count": 114,
   "id": "9afada7b",
   "metadata": {},
   "outputs": [],
   "source": [
    "f=open(r\"C:\\Users\\smart\\Downloads\\IO TESTING.txt\")"
   ]
  },
  {
   "cell_type": "code",
   "execution_count": 115,
   "id": "873facc2",
   "metadata": {},
   "outputs": [],
   "source": [
    "data1=f.read(100)"
   ]
  },
  {
   "cell_type": "code",
   "execution_count": 116,
   "id": "ca15b60c",
   "metadata": {},
   "outputs": [
    {
     "data": {
      "text/plain": [
       "'Hi. My name is Smarth KApil.\\nI am an AI ML intern at netsmartz. creating this file for I/O operation'"
      ]
     },
     "execution_count": 116,
     "metadata": {},
     "output_type": "execute_result"
    }
   ],
   "source": [
    "data1"
   ]
  },
  {
   "cell_type": "code",
   "execution_count": 117,
   "id": "d847c0c1",
   "metadata": {},
   "outputs": [],
   "source": [
    "f.close()\n",
    "f=open(r\"C:\\Users\\smart\\Downloads\\IO TESTING.txt\")"
   ]
  },
  {
   "cell_type": "code",
   "execution_count": 118,
   "id": "2119d898",
   "metadata": {},
   "outputs": [],
   "source": [
    "line1=f.readline()"
   ]
  },
  {
   "cell_type": "code",
   "execution_count": 119,
   "id": "20472a0c",
   "metadata": {},
   "outputs": [
    {
     "data": {
      "text/plain": [
       "'Hi. My name is Smarth KApil.\\n'"
      ]
     },
     "execution_count": 119,
     "metadata": {},
     "output_type": "execute_result"
    }
   ],
   "source": [
    "line1"
   ]
  },
  {
   "cell_type": "code",
   "execution_count": 120,
   "id": "3814786d",
   "metadata": {},
   "outputs": [],
   "source": [
    "f.close()\n",
    "f=open(r\"C:\\Users\\smart\\Downloads\\IO TESTING.txt\")"
   ]
  },
  {
   "cell_type": "code",
   "execution_count": 121,
   "id": "cac28015",
   "metadata": {},
   "outputs": [
    {
     "name": "stdout",
     "output_type": "stream",
     "text": [
      "Hi. My name is Smarth KApil.\n",
      "\n",
      "I am an AI ML intern at netsmartz. creating this file for I/O operations learning.\n"
     ]
    }
   ],
   "source": [
    "line1=f.readline()\n",
    "line2=f.readline()\n",
    "print(line1)\n",
    "print(line2)"
   ]
  },
  {
   "cell_type": "code",
   "execution_count": 125,
   "id": "52355ce1",
   "metadata": {},
   "outputs": [],
   "source": [
    "f.close()\n"
   ]
  },
  {
   "cell_type": "markdown",
   "id": "3e640835",
   "metadata": {},
   "source": [
    "# Writing a file"
   ]
  },
  {
   "cell_type": "code",
   "execution_count": 128,
   "id": "88d0668e",
   "metadata": {},
   "outputs": [
    {
     "name": "stdout",
     "output_type": "stream",
     "text": [
      "\n",
      "1,2,3,4,5,6,7\n"
     ]
    }
   ],
   "source": [
    "with open(r\"C:\\Users\\smart\\Downloads\\IO TESTING.txt\") as f:\n",
    "    content=f.read()\n",
    "print(content)\n",
    "with open(r\"C:\\Users\\smart\\Downloads\\IO TESTING.txt\",\"a\") as f:\n",
    "    f.write(\"I am working at netsmartz.\\nI wan to excel in ml\")"
   ]
  },
  {
   "cell_type": "code",
   "execution_count": 129,
   "id": "5a405d65",
   "metadata": {},
   "outputs": [
    {
     "name": "stdout",
     "output_type": "stream",
     "text": [
      "\n",
      "1,2,3,4,5,6,7I am working at netsmartz.\n",
      "I wan to excel in ml\n"
     ]
    }
   ],
   "source": [
    "with open(r\"C:\\Users\\smart\\Downloads\\IO TESTING.txt\") as f:\n",
    "    content=f.read()\n",
    "print(content)"
   ]
  },
  {
   "cell_type": "code",
   "execution_count": 131,
   "id": "c38377c3",
   "metadata": {},
   "outputs": [],
   "source": [
    "with open(r\"C:\\Users\\smart\\Downloads\\IO TESTING.txt\",\"r+\") as f:\n",
    "    f.write(\"Hello\")\n",
    "\n"
   ]
  },
  {
   "cell_type": "code",
   "execution_count": 132,
   "id": "7ae9554a",
   "metadata": {},
   "outputs": [
    {
     "name": "stdout",
     "output_type": "stream",
     "text": [
      "Hello,3,4,5,6,7I am working at netsmartz.\n",
      "I wan to excel in ml\n"
     ]
    }
   ],
   "source": [
    "with open(r\"C:\\Users\\smart\\Downloads\\IO TESTING.txt\") as f:\n",
    "    content=f.read()\n",
    "print(content)"
   ]
  },
  {
   "cell_type": "code",
   "execution_count": 4,
   "id": "9ac5a8ea",
   "metadata": {},
   "outputs": [
    {
     "name": "stdout",
     "output_type": "stream",
     "text": [
      "Hello I am Smarth\n"
     ]
    }
   ],
   "source": [
    "with open(r\"C:\\Users\\smart\\Downloads\\IO TESTING.txt\",\"w+\") as f:\n",
    "    f.write(\"Hello I am Smarth\")\n",
    "    f.seek(0)\n",
    "    content=f.read()\n",
    "print(content)"
   ]
  },
  {
   "cell_type": "code",
   "execution_count": null,
   "id": "be765419",
   "metadata": {},
   "outputs": [],
   "source": []
  },
  {
   "cell_type": "code",
   "execution_count": null,
   "id": "5d7d2638",
   "metadata": {},
   "outputs": [],
   "source": [
    "f=open(r\"C:\\Users\\smart\\Downloads\\IO TESTING.txt\",\"w\")"
   ]
  },
  {
   "cell_type": "code",
   "execution_count": 127,
   "id": "fb4dadb3",
   "metadata": {},
   "outputs": [
    {
     "data": {
      "text/plain": [
       "33"
      ]
     },
     "execution_count": 127,
     "metadata": {},
     "output_type": "execute_result"
    }
   ],
   "source": [
    "f.write(\"I want to learn python basics.123\")"
   ]
  },
  {
   "cell_type": "code",
   "execution_count": 128,
   "id": "05bea183",
   "metadata": {},
   "outputs": [],
   "source": [
    "f.close()"
   ]
  },
  {
   "cell_type": "code",
   "execution_count": 129,
   "id": "f5860568",
   "metadata": {},
   "outputs": [],
   "source": [
    "f=open(r\"C:\\Users\\smart\\Downloads\\IO TESTING.txt\",\"r\")"
   ]
  },
  {
   "cell_type": "code",
   "execution_count": 130,
   "id": "75a19306",
   "metadata": {},
   "outputs": [],
   "source": [
    "data=f.read()"
   ]
  },
  {
   "cell_type": "code",
   "execution_count": 131,
   "id": "6e3ddef6",
   "metadata": {},
   "outputs": [
    {
     "data": {
      "text/plain": [
       "'I want to learn python basicsI want to learn python basics.123'"
      ]
     },
     "execution_count": 131,
     "metadata": {},
     "output_type": "execute_result"
    }
   ],
   "source": [
    "data"
   ]
  },
  {
   "cell_type": "code",
   "execution_count": 132,
   "id": "a839ebe7",
   "metadata": {},
   "outputs": [],
   "source": [
    "f.close()"
   ]
  },
  {
   "cell_type": "code",
   "execution_count": 133,
   "id": "c5fe6d7c",
   "metadata": {},
   "outputs": [],
   "source": [
    "f=open(r\"C:\\Users\\smart\\Downloads\\IO TESTING.txt\",\"a\")\n",
    "f.write(\"\\n I also want to become proficient in AI-ML\")\n",
    "f.close()"
   ]
  },
  {
   "cell_type": "code",
   "execution_count": 137,
   "id": "815604e3",
   "metadata": {},
   "outputs": [
    {
     "name": "stdout",
     "output_type": "stream",
     "text": [
      "I want to learn python basicsI want to learn python basics.123\n",
      " I also want to become proficient in AI-ML\n"
     ]
    }
   ],
   "source": [
    "f=open(r\"C:\\Users\\smart\\Downloads\\IO TESTING.txt\",\"r\")\n",
    "data=f.read()\n",
    "print(data)\n",
    "f.close()"
   ]
  },
  {
   "cell_type": "code",
   "execution_count": 138,
   "id": "f63ac7b0",
   "metadata": {},
   "outputs": [
    {
     "name": "stdout",
     "output_type": "stream",
     "text": [
      "I want to learn python basicsI want to learn python basics.123\n",
      " I also want to become proficient in AI-ML\n"
     ]
    }
   ],
   "source": [
    "with open(r\"C:\\Users\\smart\\Downloads\\IO TESTING.txt\",\"r\") as f:\n",
    "    data=f.read()\n",
    "print(data)"
   ]
  },
  {
   "cell_type": "code",
   "execution_count": 139,
   "id": "2fb18c22",
   "metadata": {},
   "outputs": [],
   "source": [
    "with open(r\"C:\\Users\\smart\\Downloads\\IO TESTING.txt\",\"r\") as f:\n",
    "    data=f.read()\n",
    "new_data=data.replace(\"I\",\"Smarth\")\n",
    "with open(r\"C:\\Users\\smart\\Downloads\\IO TESTING.txt\",\"w\") as f:\n",
    "    f.write(new_data)"
   ]
  },
  {
   "cell_type": "code",
   "execution_count": 140,
   "id": "3048f4fb",
   "metadata": {},
   "outputs": [
    {
     "name": "stdout",
     "output_type": "stream",
     "text": [
      "Smarth want to learn python basicsSmarth want to learn python basics.123\n",
      " Smarth also want to become proficient in ASmarth-ML\n"
     ]
    }
   ],
   "source": [
    "with open(r\"C:\\Users\\smart\\Downloads\\IO TESTING.txt\",\"r\") as f:\n",
    "    data=f.read()\n",
    "print(data)"
   ]
  },
  {
   "cell_type": "code",
   "execution_count": 144,
   "id": "be97f985",
   "metadata": {},
   "outputs": [
    {
     "name": "stdout",
     "output_type": "stream",
     "text": [
      "Smarth want to learn python basicsSmarth want to learn python basics.123\n",
      " Smarth also want to become proficient in ASmarth-ML1,2,3,4,5,6,7\n",
      "1,2,3,4,5,6,7\n"
     ]
    }
   ],
   "source": [
    "with open(r\"C:\\Users\\smart\\Downloads\\IO TESTING.txt\",\"a\") as f:\n",
    "    f.write(\"\\n1,2,3,4,5,6,7\")\n",
    "with open(r\"C:\\Users\\smart\\Downloads\\IO TESTING.txt\",\"r\") as f:\n",
    "    data=f.read()\n",
    "print(data)"
   ]
  },
  {
   "cell_type": "code",
   "execution_count": 145,
   "id": "ba3def78",
   "metadata": {},
   "outputs": [
    {
     "name": "stdout",
     "output_type": "stream",
     "text": [
      "\n",
      "1,2,3,4,5,6,7\n"
     ]
    }
   ],
   "source": [
    "with open(r\"C:\\Users\\smart\\Downloads\\IO TESTING.txt\",\"w\") as f:\n",
    "    f.write(\"\\n1,2,3,4,5,6,7\")\n",
    "with open(r\"C:\\Users\\smart\\Downloads\\IO TESTING.txt\",\"r\") as f:\n",
    "    data=f.read()\n",
    "print(data)"
   ]
  },
  {
   "cell_type": "code",
   "execution_count": 148,
   "id": "04f1189e",
   "metadata": {},
   "outputs": [
    {
     "name": "stdout",
     "output_type": "stream",
     "text": [
      "\n",
      "1,2,3,4,5,6,7\n",
      "\n",
      "1\n",
      "2\n",
      "3\n",
      "4\n",
      "5\n",
      "6\n",
      "7\n"
     ]
    }
   ],
   "source": [
    "with open(r\"C:\\Users\\smart\\Downloads\\IO TESTING.txt\",\"r\") as f:\n",
    "    data=f.read()\n",
    "    print(data)\n",
    "    num=\"\"\n",
    "    for i in range(len(data)):\n",
    "        if data[i]==\",\":\n",
    "            print(num)\n",
    "            num=\"\"\n",
    "        else:\n",
    "            num+=data[i]\n",
    "    print(num)"
   ]
  },
  {
   "cell_type": "code",
   "execution_count": 151,
   "id": "c7beecd2",
   "metadata": {},
   "outputs": [
    {
     "name": "stdout",
     "output_type": "stream",
     "text": [
      "['\\n1', '2', '3', '4', '5', '6', '7']\n",
      "3\n"
     ]
    }
   ],
   "source": [
    "count=0\n",
    "with open(r\"C:\\Users\\smart\\Downloads\\IO TESTING.txt\",\"r\") as f:\n",
    "    data=f.read()\n",
    "    nums=data.split(\",\")\n",
    "    print(nums)\n",
    "    \n",
    "    for val in nums:\n",
    "        if int(val)%2==0:\n",
    "            count+=1\n",
    "print(count)"
   ]
  },
  {
   "cell_type": "code",
   "execution_count": 4,
   "id": "87e7e40a",
   "metadata": {},
   "outputs": [
    {
     "data": {
      "text/plain": [
       "0"
      ]
     },
     "execution_count": 4,
     "metadata": {},
     "output_type": "execute_result"
    }
   ],
   "source": [
    "def square(n):\n",
    "    for i in range(0,n):\n",
    "        return i\n",
    "square(3)"
   ]
  },
  {
   "cell_type": "code",
   "execution_count": 6,
   "id": "02ab2d7d",
   "metadata": {},
   "outputs": [
    {
     "name": "stdout",
     "output_type": "stream",
     "text": [
      "45\n",
      "45\n"
     ]
    }
   ],
   "source": [
    "def func():\n",
    "    global x\n",
    "    x = 45\n",
    "    print(x)\n",
    "\n",
    "func()\n",
    "print(x)"
   ]
  },
  {
   "cell_type": "code",
   "execution_count": 8,
   "id": "444c4381",
   "metadata": {},
   "outputs": [],
   "source": [
    "from abc import ABC,abstractmethod"
   ]
  },
  {
   "cell_type": "code",
   "execution_count": null,
   "id": "ce434bba",
   "metadata": {},
   "outputs": [],
   "source": [
    "def animal(ABC):\n",
    "    @abstractmethod\n",
    "    def speak(self):\n",
    "        return \"Meow\"\n",
    "    @staticmethod\n",
    "    def run():\n",
    "        return \"I am running\"\n",
    "a1=animal()\n",
    "    "
   ]
  },
  {
   "cell_type": "code",
   "execution_count": 24,
   "id": "6d72b1b4",
   "metadata": {},
   "outputs": [],
   "source": [
    "class animal(ABC):\n",
    "    @abstractmethod\n",
    "    def speak(self):\n",
    "        pass\n",
    "\n",
    "class cat(animal):\n",
    "    def speak(self):\n",
    "        return \"meow\"\n",
    "    "
   ]
  },
  {
   "cell_type": "code",
   "execution_count": 25,
   "id": "871c2254",
   "metadata": {},
   "outputs": [],
   "source": [
    "c1=cat()"
   ]
  },
  {
   "cell_type": "code",
   "execution_count": 26,
   "id": "61cfc7e8",
   "metadata": {},
   "outputs": [
    {
     "name": "stdout",
     "output_type": "stream",
     "text": [
      "<__main__.cat object at 0x0000022F21B8FB50>\n",
      "meow\n"
     ]
    }
   ],
   "source": [
    "print(c1)\n",
    "print(c1.speak())"
   ]
  },
  {
   "cell_type": "code",
   "execution_count": null,
   "id": "02046481",
   "metadata": {},
   "outputs": [],
   "source": [
    "#Duck typing\n",
    "\n",
    "class Cat:\n",
    "    def speak(self):\n",
    "        return \"Meow\"\n",
    "\n",
    "class Dog:\n",
    "    def speak(self):\n",
    "        return \"Bark\"\n",
    "\n",
    "def animal_sound(animal):\n",
    "    return animal.speak()\n",
    "\n",
    "cat = Cat()\n",
    "dog = Dog()\n",
    "print(animal_sound(cat))  # Output: Meow\n",
    "print(animal_sound(dog)) \n"
   ]
  },
  {
   "cell_type": "markdown",
   "id": "073ed9ee",
   "metadata": {},
   "source": [
    "# Exception handling"
   ]
  },
  {
   "cell_type": "code",
   "execution_count": 27,
   "id": "f922a225",
   "metadata": {},
   "outputs": [
    {
     "ename": "NameError",
     "evalue": "name 'b' is not defined",
     "output_type": "error",
     "traceback": [
      "\u001b[1;31m---------------------------------------------------------------------------\u001b[0m",
      "\u001b[1;31mNameError\u001b[0m                                 Traceback (most recent call last)",
      "Cell \u001b[1;32mIn[27], line 1\u001b[0m\n\u001b[1;32m----> 1\u001b[0m a\u001b[38;5;241m=\u001b[39m\u001b[43mb\u001b[49m\n",
      "\u001b[1;31mNameError\u001b[0m: name 'b' is not defined"
     ]
    }
   ],
   "source": [
    "a=b"
   ]
  },
  {
   "cell_type": "code",
   "execution_count": 28,
   "id": "2135ccee",
   "metadata": {},
   "outputs": [
    {
     "name": "stdout",
     "output_type": "stream",
     "text": [
      "Name error occured\n"
     ]
    }
   ],
   "source": [
    "try:\n",
    "    a=b\n",
    "except NameError:\n",
    "    print(\"Name error occured\")\n",
    "    "
   ]
  },
  {
   "cell_type": "code",
   "execution_count": 1,
   "id": "f6c1ee3b",
   "metadata": {},
   "outputs": [
    {
     "name": "stdout",
     "output_type": "stream",
     "text": [
      "name 'b' is not defined\n"
     ]
    }
   ],
   "source": [
    "# Exception  is the baseclass for built-in exceptions\n",
    "\n",
    "try:\n",
    "    a=b\n",
    "except Exception as e:\n",
    "    print(e)\n",
    "    "
   ]
  },
  {
   "cell_type": "code",
   "execution_count": 2,
   "id": "5484f6c9",
   "metadata": {},
   "outputs": [
    {
     "name": "stdout",
     "output_type": "stream",
     "text": [
      "Does not define variable b\n"
     ]
    }
   ],
   "source": [
    "# write child classes first. before base class Exception.BAse class \n",
    "# exception will handle all kinds of exception except \n",
    "# system level exceptions like SystemExit, KeyboardInterrupt\n",
    "\n",
    "try:\n",
    "    a=b\n",
    "except NameError:\n",
    "    print(\"Does not define variable b\")\n",
    "except Exception as e:\n",
    "    print(e)"
   ]
  },
  {
   "cell_type": "code",
   "execution_count": 3,
   "id": "b2715468",
   "metadata": {},
   "outputs": [
    {
     "name": "stdout",
     "output_type": "stream",
     "text": [
      "can only concatenate str (not \"int\") to str\n"
     ]
    }
   ],
   "source": [
    "try:\n",
    "    a=1\n",
    "    b=\"s\"\n",
    "    c=b+a\n",
    "except NameError:\n",
    "    print(\"Does not define variable b\")\n",
    "except Exception as e:\n",
    "    print(e)"
   ]
  },
  {
   "cell_type": "code",
   "execution_count": 5,
   "id": "1022c6f6",
   "metadata": {},
   "outputs": [
    {
     "ename": "TypeError",
     "evalue": "can only concatenate str (not \"int\") to str",
     "output_type": "error",
     "traceback": [
      "\u001b[1;31m---------------------------------------------------------------------------\u001b[0m",
      "\u001b[1;31mTypeError\u001b[0m                                 Traceback (most recent call last)",
      "Cell \u001b[1;32mIn[5], line 3\u001b[0m\n\u001b[0;32m      1\u001b[0m a\u001b[38;5;241m=\u001b[39m\u001b[38;5;241m1\u001b[39m\n\u001b[0;32m      2\u001b[0m b\u001b[38;5;241m=\u001b[39m\u001b[38;5;124m\"\u001b[39m\u001b[38;5;124ms\u001b[39m\u001b[38;5;124m\"\u001b[39m\n\u001b[1;32m----> 3\u001b[0m c\u001b[38;5;241m=\u001b[39m\u001b[43mb\u001b[49m\u001b[38;5;241;43m+\u001b[39;49m\u001b[43ma\u001b[49m\n",
      "\u001b[1;31mTypeError\u001b[0m: can only concatenate str (not \"int\") to str"
     ]
    }
   ],
   "source": [
    "# type error can be defined in seperate except block\n",
    "a=1\n",
    "b=\"s\"\n",
    "c=b+a"
   ]
  },
  {
   "cell_type": "code",
   "execution_count": 3,
   "id": "203ea08a",
   "metadata": {},
   "outputs": [
    {
     "name": "stdout",
     "output_type": "stream",
     "text": [
      "There is a type error. chack data tyoes\n"
     ]
    }
   ],
   "source": [
    "try:\n",
    "    a=1\n",
    "    b=\"s\"\n",
    "    c=b+a\n",
    "except NameError:\n",
    "    print(\"Does not define variable b\")\n",
    "except TypeError:\n",
    "    print(\"There is a type error. chack data tyoes\")\n",
    "except Exception as e:\n",
    "    print(e)"
   ]
  },
  {
   "cell_type": "code",
   "execution_count": 10,
   "id": "9b0cf880",
   "metadata": {},
   "outputs": [
    {
     "name": "stdout",
     "output_type": "stream",
     "text": [
      "30\n"
     ]
    }
   ],
   "source": [
    "# use else block to execute the block of code if no error occured\n",
    "\n",
    "try:\n",
    "    a=10\n",
    "    b=20\n",
    "    c=a+b\n",
    "except Exceptions as e:\n",
    "    print(e)\n",
    "\n",
    "else:\n",
    "    print(c)\n",
    "    \n",
    "    "
   ]
  },
  {
   "cell_type": "code",
   "execution_count": 2,
   "id": "2a1579e8",
   "metadata": {},
   "outputs": [
    {
     "name": "stdout",
     "output_type": "stream",
     "text": [
      "unsupported operand type(s) for +: 'int' and 'str'\n",
      "Code executed\n"
     ]
    }
   ],
   "source": [
    "# us of finally to execute the block certainly. Error occured or not \n",
    "# does not matter.\n",
    "\n",
    "try:\n",
    "    a=10\n",
    "    b=\"s\"\n",
    "    c=a+b\n",
    "except Exception as e:\n",
    "    print(e)\n",
    "\n",
    "finally:\n",
    "    print(\"Code executed\")"
   ]
  },
  {
   "cell_type": "code",
   "execution_count": 10,
   "id": "c900c21c",
   "metadata": {},
   "outputs": [
    {
     "name": "stdout",
     "output_type": "stream",
     "text": [
      "Enter the code: 123\n",
      "Enter the code: sa\n",
      "invalid literal for int() with base 10: 'sa'\n",
      "Cod executed\n"
     ]
    }
   ],
   "source": [
    "# use of try finally except\n",
    "\n",
    "try:\n",
    "    a=int(input(\"Enter the code: \"))\n",
    "    b=int(input(\"Enter the code: \"))\n",
    "    c= a==b\n",
    "except Exception as e:\n",
    "    print(e)\n",
    "    \n",
    "else:\n",
    "    print(c)\n",
    "\n",
    "finally:\n",
    "    print(\"Cod executed\")"
   ]
  },
  {
   "cell_type": "code",
   "execution_count": 33,
   "id": "73267e71",
   "metadata": {},
   "outputs": [],
   "source": [
    "#raise custom exceptions\n",
    "\n",
    "class Error(Exception):\n",
    "    pass\n",
    "\n",
    "class dobException(Error):\n",
    "    pass\n"
   ]
  },
  {
   "cell_type": "code",
   "execution_count": 36,
   "id": "6832e79c",
   "metadata": {},
   "outputs": [
    {
     "name": "stdout",
     "output_type": "stream",
     "text": [
      "Enter the year of birth: 2002\n",
      "The age is correct\n"
     ]
    }
   ],
   "source": [
    "year=int(input(\"Enter the year of birth: \"))\n",
    "age=2025-year\n",
    "try:\n",
    "    if age>20 and age <=30:\n",
    "        print(\"The age is correct\")\n",
    "    else:\n",
    "        raise dobException\n",
    "\n",
    "except dobException:\n",
    "    print(\"The year is not valid.\")\n",
    "    \n"
   ]
  },
  {
   "cell_type": "code",
   "execution_count": 41,
   "id": "f040be15",
   "metadata": {},
   "outputs": [
    {
     "ename": "AssertionError",
     "evalue": "Value is not greater than 20",
     "output_type": "error",
     "traceback": [
      "\u001b[1;31m---------------------------------------------------------------------------\u001b[0m",
      "\u001b[1;31mAssertionError\u001b[0m                            Traceback (most recent call last)",
      "Cell \u001b[1;32mIn[41], line 3\u001b[0m\n\u001b[0;32m      1\u001b[0m \u001b[38;5;66;03m# use of assert statement\u001b[39;00m\n\u001b[0;32m      2\u001b[0m num\u001b[38;5;241m=\u001b[39m\u001b[38;5;241m10\u001b[39m\n\u001b[1;32m----> 3\u001b[0m \u001b[38;5;28;01massert\u001b[39;00m num\u001b[38;5;241m>\u001b[39m\u001b[38;5;241m10\u001b[39m,\u001b[38;5;124m\"\u001b[39m\u001b[38;5;124mValue is not greater than 20\u001b[39m\u001b[38;5;124m\"\u001b[39m\n",
      "\u001b[1;31mAssertionError\u001b[0m: Value is not greater than 20"
     ]
    }
   ],
   "source": [
    "# use of assert statement\n",
    "num=10\n",
    "assert num>10,\"Value is not greater than 20\""
   ]
  },
  {
   "cell_type": "code",
   "execution_count": 40,
   "id": "23ae8e5b",
   "metadata": {},
   "outputs": [
    {
     "name": "stdout",
     "output_type": "stream",
     "text": [
      "Enter the number greater than 10: 4\n",
      "Enter number greater than 10\n"
     ]
    }
   ],
   "source": [
    "try:\n",
    "    num=int(input(\"Enter the number greater than 10: \"))\n",
    "    assert num>10\n",
    "except AssertionError:\n",
    "    print(\"Enter number greater than 10\")\n",
    "else:\n",
    "    print(\"Number is greater than 10\")\n",
    "    "
   ]
  },
  {
   "cell_type": "code",
   "execution_count": null,
   "id": "594db79b",
   "metadata": {},
   "outputs": [],
   "source": [
    " "
   ]
  },
  {
   "cell_type": "code",
   "execution_count": null,
   "id": "441ac2f4",
   "metadata": {},
   "outputs": [],
   "source": []
  },
  {
   "cell_type": "code",
   "execution_count": null,
   "id": "b976d371",
   "metadata": {},
   "outputs": [],
   "source": []
  },
  {
   "cell_type": "code",
   "execution_count": 9,
   "id": "7a5e61e3",
   "metadata": {},
   "outputs": [
    {
     "name": "stdout",
     "output_type": "stream",
     "text": [
      "<generator object count at 0x000001DACEE8C190>\n",
      "<class 'generator'>\n",
      "0\n",
      "1\n",
      "2\n"
     ]
    }
   ],
   "source": [
    "def count(n):\n",
    "    for i in range(n):\n",
    "        yield i\n",
    "a=count(3)\n",
    "print(a)\n",
    "print(type(a))\n",
    "print(next(a))\n",
    "print(next(a))\n",
    "print(next(a))"
   ]
  },
  {
   "cell_type": "code",
   "execution_count": 22,
   "id": "e47db1ca",
   "metadata": {},
   "outputs": [
    {
     "data": {
      "text/plain": [
       "[20, 21, 24]"
      ]
     },
     "execution_count": 22,
     "metadata": {},
     "output_type": "execute_result"
    }
   ],
   "source": [
    "def inc_20(func):\n",
    "    def wrapper(*args,**kwargs):\n",
    "        l1=[]\n",
    "        for i in range(0,*args):\n",
    "            result= func(i)\n",
    "            l1.append(result+20)\n",
    "        return l1\n",
    "    return wrapper\n",
    "            \n",
    "        \n",
    "\n",
    "@inc_20\n",
    "def square(num):\n",
    "    return num**2\n",
    "square(3)"
   ]
  },
  {
   "cell_type": "code",
   "execution_count": 1,
   "id": "720c1e8b",
   "metadata": {},
   "outputs": [
    {
     "name": "stdout",
     "output_type": "stream",
     "text": [
      "26\n"
     ]
    }
   ],
   "source": [
    "def inc_20(func):\n",
    "    def wrapper(*args, **kwargs):\n",
    "        result = func(*args, **kwargs)  # Call the original function with passed arguments\n",
    "        return result + 20  # Add 20 to the result\n",
    "    return wrapper\n",
    "\n",
    "@inc_20\n",
    "def multiply(a, b):\n",
    "    return a * b\n",
    "\n",
    "print(multiply(2, 3))  # Output should be (2 * 3) + 20 = 26"
   ]
  },
  {
   "cell_type": "code",
   "execution_count": 4,
   "id": "7665996c",
   "metadata": {},
   "outputs": [
    {
     "name": "stdout",
     "output_type": "stream",
     "text": [
      "hii\n"
     ]
    }
   ],
   "source": [
    "def welcome():\n",
    "    print('hii')\n",
    "w=welcome()"
   ]
  },
  {
   "cell_type": "markdown",
   "id": "556328ea",
   "metadata": {},
   "source": [
    "# Closures in python"
   ]
  },
  {
   "cell_type": "code",
   "execution_count": 14,
   "id": "f6d62821",
   "metadata": {},
   "outputs": [
    {
     "name": "stdout",
     "output_type": "stream",
     "text": [
      "Smarth\n",
      "1\n"
     ]
    }
   ],
   "source": [
    "def outer(msg):\n",
    "    count=1\n",
    "    def inner():\n",
    "        print(msg)\n",
    "        print(count)\n",
    "    return inner()\n",
    "outer(\"Smarth\")"
   ]
  },
  {
   "cell_type": "code",
   "execution_count": 19,
   "id": "6389de58",
   "metadata": {},
   "outputs": [
    {
     "data": {
      "text/plain": [
       "<function __main__.outer.<locals>.inner()>"
      ]
     },
     "execution_count": 19,
     "metadata": {},
     "output_type": "execute_result"
    }
   ],
   "source": [
    "def outer(msg):\n",
    "    count=1\n",
    "    def inner():\n",
    "        print(msg)\n",
    "        print(count)\n",
    "    return inner\n",
    "outer(\"Smarth\")"
   ]
  },
  {
   "cell_type": "code",
   "execution_count": 17,
   "id": "28065fbe",
   "metadata": {},
   "outputs": [],
   "source": [
    "def outer(msg):\n",
    "    count=1\n",
    "    def inner():\n",
    "        print(msg)\n",
    "        print(count)\n",
    "    return inner\n",
    "a=outer(\"Smarth\")"
   ]
  },
  {
   "cell_type": "code",
   "execution_count": 18,
   "id": "ca01fe84",
   "metadata": {},
   "outputs": [
    {
     "name": "stdout",
     "output_type": "stream",
     "text": [
      "Smarth\n",
      "1\n"
     ]
    }
   ],
   "source": [
    "a()"
   ]
  },
  {
   "cell_type": "code",
   "execution_count": 26,
   "id": "a6d2a7bc",
   "metadata": {},
   "outputs": [
    {
     "name": "stdout",
     "output_type": "stream",
     "text": [
      "Wrapper Started\n",
      "Wrapper Started\n",
      "380\n"
     ]
    },
    {
     "data": {
      "text/plain": [
       "int"
      ]
     },
     "execution_count": 26,
     "metadata": {},
     "output_type": "execute_result"
    }
   ],
   "source": [
    "def dec_20(func):\n",
    "    def wrapper(*args,**kwargs):\n",
    "        print(\"Wrapper Started\")\n",
    "        result=func(*args)\n",
    "        return result-20\n",
    "    return wrapper\n",
    "\n",
    "@dec_20\n",
    "def square(n):\n",
    "    return n*n\n",
    "result=square(5)\n",
    "print(square(20))\n",
    "type(result)"
   ]
  },
  {
   "cell_type": "code",
   "execution_count": 27,
   "id": "1b496990",
   "metadata": {},
   "outputs": [
    {
     "data": {
      "text/plain": [
       "[1, 4]"
      ]
     },
     "execution_count": 27,
     "metadata": {},
     "output_type": "execute_result"
    }
   ],
   "source": [
    "l1=[x**2 for x in range(1,3)]\n",
    "l1"
   ]
  },
  {
   "cell_type": "code",
   "execution_count": 28,
   "id": "8afac1d3",
   "metadata": {},
   "outputs": [
    {
     "name": "stdout",
     "output_type": "stream",
     "text": [
      "{0: 1, 1: 2, 2: 3, 3: 4, 4: 5}\n"
     ]
    }
   ],
   "source": [
    "dict={x:x+1 for x in range(5)}\n",
    "print(dict)"
   ]
  },
  {
   "cell_type": "code",
   "execution_count": 29,
   "id": "f477bc2b",
   "metadata": {},
   "outputs": [
    {
     "data": {
      "text/plain": [
       "<generator object generator at 0x00000203EE3F8C80>"
      ]
     },
     "execution_count": 29,
     "metadata": {},
     "output_type": "execute_result"
    }
   ],
   "source": [
    "def generator(n):\n",
    "    for i in range(0,n):\n",
    "        yield i\n",
    "generator(5)"
   ]
  },
  {
   "cell_type": "code",
   "execution_count": 31,
   "id": "b86bcf1f",
   "metadata": {},
   "outputs": [],
   "source": [
    "class Animal:\n",
    "    def __init__(self,name):\n",
    "        self.__name=name       \n",
    "    def get_name(self):\n",
    "        return self.__name\n",
    "\n",
    "a1=Animal(\"Smarth\")\n",
    "        \n",
    "        "
   ]
  },
  {
   "cell_type": "code",
   "execution_count": 32,
   "id": "677e6d6d",
   "metadata": {},
   "outputs": [
    {
     "data": {
      "text/plain": [
       "'Smarth'"
      ]
     },
     "execution_count": 32,
     "metadata": {},
     "output_type": "execute_result"
    }
   ],
   "source": [
    "a1.get_name()"
   ]
  },
  {
   "cell_type": "code",
   "execution_count": 33,
   "id": "f1d23e89",
   "metadata": {},
   "outputs": [
    {
     "ename": "AttributeError",
     "evalue": "'Animal' object has no attribute 'name'",
     "output_type": "error",
     "traceback": [
      "\u001b[1;31m---------------------------------------------------------------------------\u001b[0m",
      "\u001b[1;31mAttributeError\u001b[0m                            Traceback (most recent call last)",
      "Cell \u001b[1;32mIn[33], line 1\u001b[0m\n\u001b[1;32m----> 1\u001b[0m \u001b[43ma1\u001b[49m\u001b[38;5;241;43m.\u001b[39;49m\u001b[43mname\u001b[49m\n",
      "\u001b[1;31mAttributeError\u001b[0m: 'Animal' object has no attribute 'name'"
     ]
    }
   ],
   "source": [
    "a1.name"
   ]
  },
  {
   "cell_type": "code",
   "execution_count": 35,
   "id": "c4564e4d",
   "metadata": {},
   "outputs": [
    {
     "data": {
      "text/plain": [
       "'Smarth'"
      ]
     },
     "execution_count": 35,
     "metadata": {},
     "output_type": "execute_result"
    }
   ],
   "source": [
    "a1._Animal__name"
   ]
  },
  {
   "cell_type": "code",
   "execution_count": 36,
   "id": "0924f8d2",
   "metadata": {},
   "outputs": [
    {
     "data": {
      "text/plain": [
       "(1, 2, 3)"
      ]
     },
     "execution_count": 36,
     "metadata": {},
     "output_type": "execute_result"
    }
   ],
   "source": [
    "s=(1,2,3,4)\n",
    "s[:3]"
   ]
  },
  {
   "cell_type": "code",
   "execution_count": 37,
   "id": "c00415d1",
   "metadata": {},
   "outputs": [
    {
     "data": {
      "text/plain": [
       "2"
      ]
     },
     "execution_count": 37,
     "metadata": {},
     "output_type": "execute_result"
    }
   ],
   "source": [
    "s[1]"
   ]
  },
  {
   "cell_type": "code",
   "execution_count": 39,
   "id": "b0b3b285",
   "metadata": {},
   "outputs": [
    {
     "ename": "TypeError",
     "evalue": "'set' object is not subscriptable",
     "output_type": "error",
     "traceback": [
      "\u001b[1;31m---------------------------------------------------------------------------\u001b[0m",
      "\u001b[1;31mTypeError\u001b[0m                                 Traceback (most recent call last)",
      "Cell \u001b[1;32mIn[39], line 2\u001b[0m\n\u001b[0;32m      1\u001b[0m s1\u001b[38;5;241m=\u001b[39m{\u001b[38;5;241m1\u001b[39m,\u001b[38;5;241m2\u001b[39m,\u001b[38;5;241m3\u001b[39m,\u001b[38;5;241m4\u001b[39m}\n\u001b[1;32m----> 2\u001b[0m \u001b[43ms1\u001b[49m\u001b[43m[\u001b[49m\u001b[38;5;241;43m2\u001b[39;49m\u001b[43m]\u001b[49m\n",
      "\u001b[1;31mTypeError\u001b[0m: 'set' object is not subscriptable"
     ]
    }
   ],
   "source": [
    "s1={1,2,3,4}\n",
    "s1[2]"
   ]
  },
  {
   "cell_type": "code",
   "execution_count": 44,
   "id": "ad3c7961",
   "metadata": {},
   "outputs": [],
   "source": [
    "class Error(Exception):\n",
    "    pass\n",
    "class Jingle(Error):\n",
    "    pass"
   ]
  },
  {
   "cell_type": "code",
   "execution_count": 49,
   "id": "7a53b019",
   "metadata": {},
   "outputs": [
    {
     "name": "stdout",
     "output_type": "stream",
     "text": [
      "Correct value\n",
      "jingleji intelligent than deepseek\n",
      "jingle is the most intelligent\n"
     ]
    }
   ],
   "source": [
    "try:\n",
    "    a=2\n",
    "    b=2\n",
    "    if a==b:\n",
    "        print(\"Correct value\")\n",
    "    else:\n",
    "        raise Jingle\n",
    "except Jingle:\n",
    "    print(\"JIngle super intelligent. Can't compete\")\n",
    "else:\n",
    "    print(\"jingleji intelligent than deepseek\")\n",
    "finally:\n",
    "    print(\"jingle is the most intelligent\")\n",
    "\n",
    "class Error(Exception):\n",
    "    pass\n",
    "class Jingle(Error):\n",
    "    pass\n"
   ]
  },
  {
   "cell_type": "code",
   "execution_count": 55,
   "id": "39e4ba89",
   "metadata": {},
   "outputs": [],
   "source": [
    "a=lambda x:x**2"
   ]
  },
  {
   "cell_type": "code",
   "execution_count": 57,
   "id": "71e819b0",
   "metadata": {},
   "outputs": [
    {
     "name": "stdout",
     "output_type": "stream",
     "text": [
      "0\n",
      "1\n",
      "4\n",
      "9\n",
      "16\n"
     ]
    }
   ],
   "source": [
    "for i in range(5):\n",
    "    print(a(i))"
   ]
  },
  {
   "cell_type": "code",
   "execution_count": 14,
   "id": "8b26dd60",
   "metadata": {},
   "outputs": [
    {
     "name": "stdout",
     "output_type": "stream",
     "text": [
      "<map object at 0x00000240263DD5A0>\n"
     ]
    }
   ],
   "source": [
    "a=map(lambda x:x*4,range(5))\n",
    "print(a)"
   ]
  },
  {
   "cell_type": "code",
   "execution_count": 89,
   "id": "fde6a2e7",
   "metadata": {},
   "outputs": [
    {
     "name": "stdout",
     "output_type": "stream",
     "text": [
      "<map object at 0x00000203EE6EFE50>\n",
      "[0, 6, 12]\n"
     ]
    }
   ],
   "source": [
    "from functools import reduce\n",
    "a=lambda x: x*3\n",
    "b=lambda x: x%2==0\n",
    "c=lambda x,y: x+y\n",
    "\n",
    "d=map(a,range(5))\n",
    "print(d)\n",
    "\n",
    "e=filter(b,d)\n",
    "print(list(e))\n",
    "\n",
    "# f=reduce(c,e,0)\n",
    "# print(f)\n"
   ]
  },
  {
   "cell_type": "code",
   "execution_count": 95,
   "id": "f00964d7",
   "metadata": {},
   "outputs": [],
   "source": [
    "def generator(n):\n",
    "    for i in range(n):\n",
    "        yield i\n",
    "a=generator(5)\n",
    "\n",
    "    "
   ]
  },
  {
   "cell_type": "code",
   "execution_count": 97,
   "id": "48f5d571",
   "metadata": {},
   "outputs": [],
   "source": [
    "for i in a:\n",
    "    print(i)\n",
    "    \n"
   ]
  },
  {
   "cell_type": "code",
   "execution_count": 98,
   "id": "a8fe2e68",
   "metadata": {},
   "outputs": [],
   "source": [
    "# error is generated after\n",
    "# all the element are iterated but for loop handles that. If want \n",
    "# to traverse again firt re-reun the generator and ten execute for loop"
   ]
  },
  {
   "cell_type": "code",
   "execution_count": 103,
   "id": "29750ba5",
   "metadata": {},
   "outputs": [
    {
     "data": {
      "text/plain": [
       "1"
      ]
     },
     "execution_count": 103,
     "metadata": {},
     "output_type": "execute_result"
    }
   ],
   "source": [
    "t1=(1,2,2,3,4)\n",
    "t1.count(3)"
   ]
  },
  {
   "cell_type": "code",
   "execution_count": 110,
   "id": "c1ac9f17",
   "metadata": {},
   "outputs": [
    {
     "ename": "TypeError",
     "evalue": "can only concatenate tuple (not \"int\") to tuple",
     "output_type": "error",
     "traceback": [
      "\u001b[1;31m---------------------------------------------------------------------------\u001b[0m",
      "\u001b[1;31mTypeError\u001b[0m                                 Traceback (most recent call last)",
      "Cell \u001b[1;32mIn[110], line 1\u001b[0m\n\u001b[1;32m----> 1\u001b[0m t1\u001b[38;5;241m=\u001b[39m\u001b[43m(\u001b[49m\u001b[43mt1\u001b[49m\u001b[43m)\u001b[49m\u001b[38;5;241;43m+\u001b[39;49m\u001b[43m(\u001b[49m\u001b[38;5;241;43m4\u001b[39;49m\u001b[43m)\u001b[49m\n",
      "\u001b[1;31mTypeError\u001b[0m: can only concatenate tuple (not \"int\") to tuple"
     ]
    }
   ],
   "source": [
    "t1=(t1)+(4)"
   ]
  },
  {
   "cell_type": "code",
   "execution_count": 109,
   "id": "d9617463",
   "metadata": {},
   "outputs": [
    {
     "data": {
      "text/plain": [
       "(1, 2, 2, 3, 4, 4, 5)"
      ]
     },
     "execution_count": 109,
     "metadata": {},
     "output_type": "execute_result"
    }
   ],
   "source": [
    "t1"
   ]
  },
  {
   "cell_type": "code",
   "execution_count": 111,
   "id": "231dd88a",
   "metadata": {},
   "outputs": [
    {
     "data": {
      "text/plain": [
       "(1, 2, 2, 3, 4, 4)"
      ]
     },
     "execution_count": 111,
     "metadata": {},
     "output_type": "execute_result"
    }
   ],
   "source": [
    "t1=(t1)+(4,)\n",
    "t2=t1[0:6]\n",
    "t2"
   ]
  },
  {
   "cell_type": "code",
   "execution_count": 112,
   "id": "b62911a4",
   "metadata": {},
   "outputs": [
    {
     "name": "stdout",
     "output_type": "stream",
     "text": [
      "0 1\n",
      "1 2\n",
      "2 2\n",
      "3 3\n",
      "4 4\n",
      "5 4\n",
      "6 5\n",
      "7 4\n"
     ]
    }
   ],
   "source": [
    "for i,n in enumerate(t1):\n",
    "    print(i,n)\n"
   ]
  },
  {
   "cell_type": "code",
   "execution_count": 113,
   "id": "e15bc1e5",
   "metadata": {},
   "outputs": [
    {
     "data": {
      "text/plain": [
       "enumerate"
      ]
     },
     "execution_count": 113,
     "metadata": {},
     "output_type": "execute_result"
    }
   ],
   "source": [
    "type(enumerate(t1))"
   ]
  },
  {
   "cell_type": "code",
   "execution_count": 116,
   "id": "ac91ae67",
   "metadata": {},
   "outputs": [
    {
     "name": "stdout",
     "output_type": "stream",
     "text": [
      "{1: 2, 2: 2, 3: 2, 4: 1, 5: 2, 6: 1, 7: 1, 8: 1, 9: 1}\n"
     ]
    }
   ],
   "source": [
    "l1=[1,1,2,3,4,5,3,2,6,5,7,8,9]\n",
    "dict={}\n",
    "for i in l1:\n",
    "    if i in dict:\n",
    "        dict[i]+=1\n",
    "    else:\n",
    "        dict[i]=1\n",
    "print(dict)"
   ]
  },
  {
   "cell_type": "code",
   "execution_count": 125,
   "id": "0ebf6267",
   "metadata": {},
   "outputs": [
    {
     "name": "stdout",
     "output_type": "stream",
     "text": [
      "Dictionary 1 {'name': 'Smarth', 'age': 21}\n",
      "Dictionary 2 {'roll no.': 114}\n",
      "Dictionary 3 {'name': 'Smarth', 'age': 21, 'roll no.': 114}\n",
      "{'name': 'Smarth', 'age': 21, 'roll no.': 114}\n"
     ]
    }
   ],
   "source": [
    "# merge two ditinaries\n",
    "\n",
    "d1={\"name\": \"Smarth\",\"age\":21}\n",
    "d2={\"roll no.\":114}\n",
    "d3={**d1,**d2}\n",
    "print(\"Dictionary 1\",d1)\n",
    "print(\"Dictionary 2\",d2)\n",
    "print(\"Dictionary 3\",d3)\n",
    "d1.update(d2)\n",
    "print(d1)"
   ]
  },
  {
   "cell_type": "markdown",
   "id": "c8eef006",
   "metadata": {},
   "source": [
    "# Numpy module"
   ]
  },
  {
   "cell_type": "code",
   "execution_count": 5,
   "id": "d918bb82",
   "metadata": {},
   "outputs": [
    {
     "data": {
      "text/plain": [
       "array([1, 2, 3, 4, 5, 6])"
      ]
     },
     "execution_count": 5,
     "metadata": {},
     "output_type": "execute_result"
    }
   ],
   "source": [
    "import numpy as np\n",
    "arr=np.array([1,2,3,4,5,6])\n",
    "arr"
   ]
  },
  {
   "cell_type": "code",
   "execution_count": 7,
   "id": "1218b749",
   "metadata": {},
   "outputs": [
    {
     "data": {
      "text/plain": [
       "array([1, 2, 3, 4, 5])"
      ]
     },
     "execution_count": 7,
     "metadata": {},
     "output_type": "execute_result"
    }
   ],
   "source": [
    "arr=np.array(range(1,6))\n",
    "arr"
   ]
  },
  {
   "cell_type": "code",
   "execution_count": 9,
   "id": "f647c6af",
   "metadata": {},
   "outputs": [
    {
     "name": "stdout",
     "output_type": "stream",
     "text": [
      "[1 2 3 4 5]\n"
     ]
    }
   ],
   "source": [
    "arr=np.array((1,2,3,4,5))\n",
    "print(arr)"
   ]
  },
  {
   "cell_type": "code",
   "execution_count": 12,
   "id": "5c222897",
   "metadata": {},
   "outputs": [
    {
     "data": {
      "text/plain": [
       "array([[[1, 2, 3, 4, 5]]])"
      ]
     },
     "execution_count": 12,
     "metadata": {},
     "output_type": "execute_result"
    }
   ],
   "source": [
    "arr=np.array([1,2,3,4,5], ndmin=3)\n",
    "arr"
   ]
  },
  {
   "cell_type": "code",
   "execution_count": 17,
   "id": "d7a8e610",
   "metadata": {},
   "outputs": [
    {
     "data": {
      "text/plain": [
       "(1, 1, 5)"
      ]
     },
     "execution_count": 17,
     "metadata": {},
     "output_type": "execute_result"
    }
   ],
   "source": [
    "arr.shape"
   ]
  },
  {
   "cell_type": "code",
   "execution_count": 18,
   "id": "88fe4910",
   "metadata": {},
   "outputs": [
    {
     "data": {
      "text/plain": [
       "array([[1, 2, 3, 4, 5]])"
      ]
     },
     "execution_count": 18,
     "metadata": {},
     "output_type": "execute_result"
    }
   ],
   "source": [
    "arr.reshape(1,5)"
   ]
  },
  {
   "cell_type": "code",
   "execution_count": 19,
   "id": "3405a21a",
   "metadata": {},
   "outputs": [
    {
     "data": {
      "text/plain": [
       "(1, 1, 5)"
      ]
     },
     "execution_count": 19,
     "metadata": {},
     "output_type": "execute_result"
    }
   ],
   "source": [
    "arr.shape"
   ]
  },
  {
   "cell_type": "code",
   "execution_count": 20,
   "id": "128a6310",
   "metadata": {},
   "outputs": [
    {
     "data": {
      "text/plain": [
       "3"
      ]
     },
     "execution_count": 20,
     "metadata": {},
     "output_type": "execute_result"
    }
   ],
   "source": [
    "arr.ndim"
   ]
  },
  {
   "cell_type": "code",
   "execution_count": 21,
   "id": "551df71b",
   "metadata": {},
   "outputs": [
    {
     "data": {
      "text/plain": [
       "array([[1, 2, 3, 4],\n",
       "       [5, 6, 7, 8]])"
      ]
     },
     "execution_count": 21,
     "metadata": {},
     "output_type": "execute_result"
    }
   ],
   "source": [
    "arr=np.array([[1,2,3,4],[5,6,7,8]])\n",
    "arr"
   ]
  },
  {
   "cell_type": "code",
   "execution_count": 22,
   "id": "f9ef220f",
   "metadata": {},
   "outputs": [
    {
     "data": {
      "text/plain": [
       "(2, 4)"
      ]
     },
     "execution_count": 22,
     "metadata": {},
     "output_type": "execute_result"
    }
   ],
   "source": [
    "arr.shape"
   ]
  },
  {
   "cell_type": "code",
   "execution_count": 24,
   "id": "cea9e6af",
   "metadata": {},
   "outputs": [
    {
     "data": {
      "text/plain": [
       "array([[1, 2],\n",
       "       [3, 4],\n",
       "       [5, 6],\n",
       "       [7, 8]])"
      ]
     },
     "execution_count": 24,
     "metadata": {},
     "output_type": "execute_result"
    }
   ],
   "source": [
    "arr.reshape(4,2)"
   ]
  },
  {
   "cell_type": "code",
   "execution_count": 27,
   "id": "7233afcb",
   "metadata": {},
   "outputs": [
    {
     "name": "stdout",
     "output_type": "stream",
     "text": [
      "[[1 2 3 4]\n",
      " [5 6 7 8]]\n"
     ]
    }
   ],
   "source": [
    "print(arr)"
   ]
  },
  {
   "cell_type": "code",
   "execution_count": 28,
   "id": "66f80300",
   "metadata": {},
   "outputs": [
    {
     "data": {
      "text/plain": [
       "array([[1, 2, 3, 4],\n",
       "       [5, 6, 7, 8]])"
      ]
     },
     "execution_count": 28,
     "metadata": {},
     "output_type": "execute_result"
    }
   ],
   "source": [
    "arr[:,:]"
   ]
  },
  {
   "cell_type": "code",
   "execution_count": 31,
   "id": "3ed613db",
   "metadata": {},
   "outputs": [],
   "source": [
    "b=arr.reshape(4,2)"
   ]
  },
  {
   "cell_type": "code",
   "execution_count": 32,
   "id": "01fb5bf9",
   "metadata": {},
   "outputs": [
    {
     "name": "stdout",
     "output_type": "stream",
     "text": [
      "[[1 2]\n",
      " [3 4]\n",
      " [5 6]\n",
      " [7 8]]\n"
     ]
    }
   ],
   "source": [
    "print(b)"
   ]
  },
  {
   "cell_type": "code",
   "execution_count": 34,
   "id": "45826c3a",
   "metadata": {},
   "outputs": [
    {
     "name": "stdout",
     "output_type": "stream",
     "text": [
      "[6 8]\n",
      "<class 'numpy.ndarray'>\n"
     ]
    }
   ],
   "source": [
    "print(b[2:,1])\n",
    "print(type(b[2:,1]))"
   ]
  },
  {
   "cell_type": "code",
   "execution_count": 37,
   "id": "b5892698",
   "metadata": {},
   "outputs": [
    {
     "data": {
      "text/plain": [
       "array([[2, 3, 4],\n",
       "       [6, 7, 8]])"
      ]
     },
     "execution_count": 37,
     "metadata": {},
     "output_type": "execute_result"
    }
   ],
   "source": [
    "arr[:,1:]"
   ]
  },
  {
   "cell_type": "code",
   "execution_count": 38,
   "id": "065da417",
   "metadata": {},
   "outputs": [
    {
     "data": {
      "text/plain": [
       "array([[[1, 2, 3, 4, 5]]])"
      ]
     },
     "execution_count": 38,
     "metadata": {},
     "output_type": "execute_result"
    }
   ],
   "source": [
    "arr=np.array([1,2,3,4,5], ndmin=3)\n",
    "arr"
   ]
  },
  {
   "cell_type": "code",
   "execution_count": 39,
   "id": "450f3190",
   "metadata": {},
   "outputs": [
    {
     "data": {
      "text/plain": [
       "3"
      ]
     },
     "execution_count": 39,
     "metadata": {},
     "output_type": "execute_result"
    }
   ],
   "source": [
    "arr.ndim"
   ]
  },
  {
   "cell_type": "code",
   "execution_count": 40,
   "id": "b748b53b",
   "metadata": {},
   "outputs": [
    {
     "data": {
      "text/plain": [
       "5"
      ]
     },
     "execution_count": 40,
     "metadata": {},
     "output_type": "execute_result"
    }
   ],
   "source": [
    "arr.size"
   ]
  },
  {
   "cell_type": "code",
   "execution_count": 42,
   "id": "3f75df81",
   "metadata": {},
   "outputs": [],
   "source": [
    "arr=np.array([[1,2,3,4,5],[2,3,4,5,6],[9,7,6,8,9]])"
   ]
  },
  {
   "cell_type": "code",
   "execution_count": 43,
   "id": "a700ec47",
   "metadata": {},
   "outputs": [
    {
     "data": {
      "text/plain": [
       "array([[1, 2, 3, 4, 5],\n",
       "       [2, 3, 4, 5, 6],\n",
       "       [9, 7, 6, 8, 9]])"
      ]
     },
     "execution_count": 43,
     "metadata": {},
     "output_type": "execute_result"
    }
   ],
   "source": [
    "arr"
   ]
  },
  {
   "cell_type": "code",
   "execution_count": 48,
   "id": "5647d4ef",
   "metadata": {},
   "outputs": [
    {
     "data": {
      "text/plain": [
       "array([[4, 5],\n",
       "       [6, 8]])"
      ]
     },
     "execution_count": 48,
     "metadata": {},
     "output_type": "execute_result"
    }
   ],
   "source": [
    "# get 4,5,6,8\n",
    "arr[1:3,2:4]\n"
   ]
  },
  {
   "cell_type": "code",
   "execution_count": 50,
   "id": "d7328b7d",
   "metadata": {},
   "outputs": [
    {
     "data": {
      "text/plain": [
       "array([3, 4, 5])"
      ]
     },
     "execution_count": 50,
     "metadata": {},
     "output_type": "execute_result"
    }
   ],
   "source": [
    "# get 3,4,5\n",
    "\n",
    "arr[0,2:]"
   ]
  },
  {
   "cell_type": "code",
   "execution_count": 51,
   "id": "138f0eb8",
   "metadata": {},
   "outputs": [
    {
     "data": {
      "text/plain": [
       "array([3, 4, 5])"
      ]
     },
     "execution_count": 51,
     "metadata": {},
     "output_type": "execute_result"
    }
   ],
   "source": [
    "arr[1,1:4]"
   ]
  },
  {
   "cell_type": "code",
   "execution_count": 54,
   "id": "b8e28604",
   "metadata": {},
   "outputs": [
    {
     "data": {
      "text/plain": [
       "array([1, 3, 5, 7, 9])"
      ]
     },
     "execution_count": 54,
     "metadata": {},
     "output_type": "execute_result"
    }
   ],
   "source": [
    "arr=np.arange(1,10,2)\n",
    "arr"
   ]
  },
  {
   "cell_type": "code",
   "execution_count": 53,
   "id": "1257d3e2",
   "metadata": {},
   "outputs": [
    {
     "data": {
      "text/plain": [
       "array([1, 3, 5, 7, 9])"
      ]
     },
     "execution_count": 53,
     "metadata": {},
     "output_type": "execute_result"
    }
   ],
   "source": [
    "arr=np.array(range(1,10,2))\n",
    "arr"
   ]
  },
  {
   "cell_type": "code",
   "execution_count": 55,
   "id": "ac14ece6",
   "metadata": {},
   "outputs": [
    {
     "data": {
      "text/plain": [
       "array([ 1.        ,  1.18367347,  1.36734694,  1.55102041,  1.73469388,\n",
       "        1.91836735,  2.10204082,  2.28571429,  2.46938776,  2.65306122,\n",
       "        2.83673469,  3.02040816,  3.20408163,  3.3877551 ,  3.57142857,\n",
       "        3.75510204,  3.93877551,  4.12244898,  4.30612245,  4.48979592,\n",
       "        4.67346939,  4.85714286,  5.04081633,  5.2244898 ,  5.40816327,\n",
       "        5.59183673,  5.7755102 ,  5.95918367,  6.14285714,  6.32653061,\n",
       "        6.51020408,  6.69387755,  6.87755102,  7.06122449,  7.24489796,\n",
       "        7.42857143,  7.6122449 ,  7.79591837,  7.97959184,  8.16326531,\n",
       "        8.34693878,  8.53061224,  8.71428571,  8.89795918,  9.08163265,\n",
       "        9.26530612,  9.44897959,  9.63265306,  9.81632653, 10.        ])"
      ]
     },
     "execution_count": 55,
     "metadata": {},
     "output_type": "execute_result"
    }
   ],
   "source": [
    "np.linspace(1,10,50)"
   ]
  },
  {
   "cell_type": "code",
   "execution_count": 56,
   "id": "3bbde0a7",
   "metadata": {},
   "outputs": [
    {
     "data": {
      "text/plain": [
       "array([1, 2, 3, 4, 5, 6, 7, 8, 9])"
      ]
     },
     "execution_count": 56,
     "metadata": {},
     "output_type": "execute_result"
    }
   ],
   "source": [
    "arr=np.array([1,2,3,4,5,6,7,8,9])\n",
    "arr"
   ]
  },
  {
   "cell_type": "code",
   "execution_count": 57,
   "id": "967a40ba",
   "metadata": {},
   "outputs": [],
   "source": [
    "arr[3:]=100"
   ]
  },
  {
   "cell_type": "code",
   "execution_count": 58,
   "id": "ea8e2a54",
   "metadata": {},
   "outputs": [
    {
     "data": {
      "text/plain": [
       "array([  1,   2,   3, 100, 100, 100, 100, 100, 100])"
      ]
     },
     "execution_count": 58,
     "metadata": {},
     "output_type": "execute_result"
    }
   ],
   "source": [
    "arr"
   ]
  },
  {
   "cell_type": "code",
   "execution_count": 59,
   "id": "f1796a66",
   "metadata": {},
   "outputs": [
    {
     "data": {
      "text/plain": [
       "array([  1,   2,   3, 100, 100, 100, 100, 100, 100])"
      ]
     },
     "execution_count": 59,
     "metadata": {},
     "output_type": "execute_result"
    }
   ],
   "source": [
    "arr1=arr\n",
    "arr1"
   ]
  },
  {
   "cell_type": "code",
   "execution_count": 61,
   "id": "d52904e6",
   "metadata": {},
   "outputs": [
    {
     "name": "stdout",
     "output_type": "stream",
     "text": [
      "[  1   2   3 500 500 500 500 500 500]\n",
      "[  1   2   3 500 500 500 500 500 500]\n"
     ]
    }
   ],
   "source": [
    "arr1[3:]=500\n",
    "print(arr1)\n",
    "print(arr)"
   ]
  },
  {
   "cell_type": "code",
   "execution_count": 62,
   "id": "53615cd4",
   "metadata": {},
   "outputs": [
    {
     "data": {
      "text/plain": [
       "array([1, 2, 3, 4, 5, 6, 7, 8, 9])"
      ]
     },
     "execution_count": 62,
     "metadata": {},
     "output_type": "execute_result"
    }
   ],
   "source": [
    "arr=np.array([1,2,3,4,5,6,7,8,9])\n",
    "arr1=arr.copy()\n",
    "arr1"
   ]
  },
  {
   "cell_type": "code",
   "execution_count": 63,
   "id": "0396780e",
   "metadata": {},
   "outputs": [
    {
     "data": {
      "text/plain": [
       "array([  1,   2,   3, 100, 100, 100, 100, 100, 100])"
      ]
     },
     "execution_count": 63,
     "metadata": {},
     "output_type": "execute_result"
    }
   ],
   "source": [
    "arr1[3:]=100\n",
    "arr1"
   ]
  },
  {
   "cell_type": "code",
   "execution_count": 64,
   "id": "68462ff4",
   "metadata": {},
   "outputs": [
    {
     "data": {
      "text/plain": [
       "array([1, 2, 3, 4, 5, 6, 7, 8, 9])"
      ]
     },
     "execution_count": 64,
     "metadata": {},
     "output_type": "execute_result"
    }
   ],
   "source": [
    "arr"
   ]
  },
  {
   "cell_type": "code",
   "execution_count": 66,
   "id": "4a19accf",
   "metadata": {},
   "outputs": [
    {
     "data": {
      "text/plain": [
       "array([[[1, 2, 3]]])"
      ]
     },
     "execution_count": 66,
     "metadata": {},
     "output_type": "execute_result"
    }
   ],
   "source": [
    "arr=np.array([1,2,3],ndmin=3)\n",
    "arr"
   ]
  },
  {
   "cell_type": "code",
   "execution_count": 73,
   "id": "40c1cdb2",
   "metadata": {},
   "outputs": [
    {
     "data": {
      "text/plain": [
       "2"
      ]
     },
     "execution_count": 73,
     "metadata": {},
     "output_type": "execute_result"
    }
   ],
   "source": [
    "arr[0][0][1]"
   ]
  },
  {
   "cell_type": "code",
   "execution_count": 78,
   "id": "a38e1101",
   "metadata": {},
   "outputs": [
    {
     "data": {
      "text/plain": [
       "array([ 3,  4,  5,  6,  7,  8,  9, 10, 11])"
      ]
     },
     "execution_count": 78,
     "metadata": {},
     "output_type": "execute_result"
    }
   ],
   "source": [
    "arr=np.array([1,2,3,4,5,6,7,8,9])\n",
    "arr\n",
    "arr+2"
   ]
  },
  {
   "cell_type": "code",
   "execution_count": 77,
   "id": "8561e817",
   "metadata": {},
   "outputs": [
    {
     "data": {
      "text/plain": [
       "[1, 2, 3, 2]"
      ]
     },
     "execution_count": 77,
     "metadata": {},
     "output_type": "execute_result"
    }
   ],
   "source": [
    "l1=[1,2,3]\n",
    "l1=l1\n",
    "l1"
   ]
  },
  {
   "cell_type": "code",
   "execution_count": 3,
   "id": "48835379",
   "metadata": {},
   "outputs": [
    {
     "data": {
      "text/plain": [
       "array([1, 2, 3, 4, 5])"
      ]
     },
     "execution_count": 3,
     "metadata": {},
     "output_type": "execute_result"
    }
   ],
   "source": [
    "arr=np.array([1,2,3,4,5,6,7,8,9])\n",
    "arr[arr<6]"
   ]
  },
  {
   "cell_type": "code",
   "execution_count": 4,
   "id": "2116bdb3",
   "metadata": {},
   "outputs": [
    {
     "name": "stdout",
     "output_type": "stream",
     "text": [
      "[1 2 3 4 5 6 7 8 9]\n"
     ]
    },
    {
     "data": {
      "text/plain": [
       "array([3, 6, 9])"
      ]
     },
     "execution_count": 4,
     "metadata": {},
     "output_type": "execute_result"
    }
   ],
   "source": [
    "import numpy as np\n",
    "arr=np.array([1,2,3,4,5,6,7,8,9])\n",
    "print(arr)\n",
    "arr[arr%3==0]"
   ]
  },
  {
   "cell_type": "code",
   "execution_count": 88,
   "id": "29581d79",
   "metadata": {},
   "outputs": [
    {
     "data": {
      "text/plain": [
       "0"
      ]
     },
     "execution_count": 88,
     "metadata": {},
     "output_type": "execute_result"
    }
   ],
   "source": [
    "3%3"
   ]
  },
  {
   "cell_type": "code",
   "execution_count": 7,
   "id": "f16ff4ab",
   "metadata": {},
   "outputs": [
    {
     "name": "stdout",
     "output_type": "stream",
     "text": [
      "<class 'numpy.float64'>\n",
      "[1. 1. 1. 1.]\n"
     ]
    }
   ],
   "source": [
    "a=np.ones(4)\n",
    "\n",
    "print(type(a[0]))\n",
    "print(a)"
   ]
  },
  {
   "cell_type": "code",
   "execution_count": 10,
   "id": "e61bc347",
   "metadata": {},
   "outputs": [
    {
     "data": {
      "text/plain": [
       "array([[1., 1., 1., 1., 1.],\n",
       "       [1., 1., 1., 1., 1.]])"
      ]
     },
     "execution_count": 10,
     "metadata": {},
     "output_type": "execute_result"
    }
   ],
   "source": [
    "b=np.ones((2,5))\n",
    "b"
   ]
  },
  {
   "cell_type": "code",
   "execution_count": 12,
   "id": "5aaf9831",
   "metadata": {},
   "outputs": [
    {
     "data": {
      "text/plain": [
       "array([[1, 1, 1, 1, 1],\n",
       "       [1, 1, 1, 1, 1]])"
      ]
     },
     "execution_count": 12,
     "metadata": {},
     "output_type": "execute_result"
    }
   ],
   "source": [
    "b=np.ones((2,5),dtype=int)\n",
    "b"
   ]
  },
  {
   "cell_type": "code",
   "execution_count": 17,
   "id": "b1741d9e",
   "metadata": {},
   "outputs": [
    {
     "name": "stdout",
     "output_type": "stream",
     "text": [
      "20\n"
     ]
    }
   ],
   "source": [
    "x=20\n",
    "def func(y):\n",
    "    global x\n",
    "    return x\n",
    "print(func(10))"
   ]
  },
  {
   "cell_type": "code",
   "execution_count": 21,
   "id": "743f9a04",
   "metadata": {},
   "outputs": [
    {
     "name": "stdout",
     "output_type": "stream",
     "text": [
      "50\n",
      "50\n"
     ]
    }
   ],
   "source": [
    "x=20\n",
    "def func(y):\n",
    "    global x\n",
    "    x=x+30\n",
    "    return x\n",
    "print(func(10))\n",
    "print(x)"
   ]
  },
  {
   "cell_type": "code",
   "execution_count": 24,
   "id": "224d6e3b",
   "metadata": {},
   "outputs": [
    {
     "data": {
      "text/plain": [
       "'Smarth'"
      ]
     },
     "execution_count": 24,
     "metadata": {},
     "output_type": "execute_result"
    }
   ],
   "source": [
    "def func(**kwargs):\n",
    "    return kwargs[\"name\"]\n",
    "func(name=\"Smarth\")"
   ]
  },
  {
   "cell_type": "code",
   "execution_count": 27,
   "id": "9668d116",
   "metadata": {},
   "outputs": [
    {
     "data": {
      "text/plain": [
       "'Smarth'"
      ]
     },
     "execution_count": 27,
     "metadata": {},
     "output_type": "execute_result"
    }
   ],
   "source": [
    "def func(**kwargs):\n",
    "    return kwargs.get(\"name\")# \" \" are important\n",
    "func(name=\"Smarth\")"
   ]
  },
  {
   "cell_type": "code",
   "execution_count": null,
   "id": "b0002d2c",
   "metadata": {},
   "outputs": [],
   "source": [
    "from multipledispatch import dispatch\n",
    "\n",
    "\n",
    "@dispatch(int, int)\n",
    "def add(a: int, b: int):\n",
    "    print(f\"Sum of integers: {a + b}\")\n",
    "\n",
    "@dispatch(str, str)\n",
    "def add(a: str, b: str):\n",
    "    print(f\"Concatenation of strings: {a + b}\")"
   ]
  },
  {
   "cell_type": "code",
   "execution_count": 32,
   "id": "6c2dac43",
   "metadata": {},
   "outputs": [],
   "source": [
    "arr_3d=np.array([[[1,2,3],\n",
    "         [4,5,6],\n",
    "         [ 7,8,9]],\n",
    "        \n",
    "        [[10,11,12],\n",
    "         [13,14,15],\n",
    "         [16,17,18]]])"
   ]
  },
  {
   "cell_type": "code",
   "execution_count": 38,
   "id": "f3cc1d39",
   "metadata": {},
   "outputs": [
    {
     "data": {
      "text/plain": [
       "array([[11, 13, 15],\n",
       "       [17, 19, 21],\n",
       "       [23, 25, 27]])"
      ]
     },
     "execution_count": 38,
     "metadata": {},
     "output_type": "execute_result"
    }
   ],
   "source": [
    "sum_axis_0_3d = arr_3d.sum(axis=0)\n",
    "sum_axis_0_3d "
   ]
  },
  {
   "cell_type": "code",
   "execution_count": 33,
   "id": "40b062b2",
   "metadata": {},
   "outputs": [
    {
     "data": {
      "text/plain": [
       "array([[12, 15, 18],\n",
       "       [39, 42, 45]])"
      ]
     },
     "execution_count": 33,
     "metadata": {},
     "output_type": "execute_result"
    }
   ],
   "source": [
    "sum_axis_1_3d = arr_3d.sum(axis=1)\n",
    "sum_axis_1_3d "
   ]
  },
  {
   "cell_type": "code",
   "execution_count": 37,
   "id": "b6680e2c",
   "metadata": {},
   "outputs": [
    {
     "data": {
      "text/plain": [
       "array([[ 6, 15, 24],\n",
       "       [33, 42, 51]])"
      ]
     },
     "execution_count": 37,
     "metadata": {},
     "output_type": "execute_result"
    }
   ],
   "source": [
    "sum_axis_2_3d = arr_3d.sum(axis=2)\n",
    "sum_axis_2_3d "
   ]
  },
  {
   "cell_type": "code",
   "execution_count": 36,
   "id": "f2cb0110",
   "metadata": {},
   "outputs": [
    {
     "name": "stdout",
     "output_type": "stream",
     "text": [
      "[[1 2 3 4]\n",
      " [5 6 7 8]]\n"
     ]
    }
   ],
   "source": [
    "arr_2d=np.array([[1,2,3,4],\n",
    "                [5,6,7,8]])\n",
    "print(arr_2d)"
   ]
  },
  {
   "cell_type": "code",
   "execution_count": 40,
   "id": "c04b3265",
   "metadata": {},
   "outputs": [
    {
     "data": {
      "text/plain": [
       "array([ 6,  8, 10, 12])"
      ]
     },
     "execution_count": 40,
     "metadata": {},
     "output_type": "execute_result"
    }
   ],
   "source": [
    "sum_axis_0=arr_2d.sum(axis=0)\n",
    "sum_axis_0"
   ]
  },
  {
   "cell_type": "code",
   "execution_count": 41,
   "id": "5efb377b",
   "metadata": {},
   "outputs": [
    {
     "data": {
      "text/plain": [
       "array([10, 26])"
      ]
     },
     "execution_count": 41,
     "metadata": {},
     "output_type": "execute_result"
    }
   ],
   "source": [
    "sum_axis_1=arr_2d.sum(axis=1)\n",
    "sum_axis_1"
   ]
  }
 ],
 "metadata": {
  "kernelspec": {
   "display_name": "Python 3 (ipykernel)",
   "language": "python",
   "name": "python3"
  },
  "language_info": {
   "codemirror_mode": {
    "name": "ipython",
    "version": 3
   },
   "file_extension": ".py",
   "mimetype": "text/x-python",
   "name": "python",
   "nbconvert_exporter": "python",
   "pygments_lexer": "ipython3",
   "version": "3.10.9"
  }
 },
 "nbformat": 4,
 "nbformat_minor": 5
}
