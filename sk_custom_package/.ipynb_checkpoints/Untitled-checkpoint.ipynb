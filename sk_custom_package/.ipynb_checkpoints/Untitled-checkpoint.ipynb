{
 "cells": [
  {
   "cell_type": "code",
   "execution_count": 1,
   "id": "10ca84d2",
   "metadata": {},
   "outputs": [],
   "source": [
    "import s1"
   ]
  },
  {
   "cell_type": "code",
   "execution_count": 2,
   "id": "cdea114a",
   "metadata": {},
   "outputs": [
    {
     "name": "stdout",
     "output_type": "stream",
     "text": [
      "6\n"
     ]
    }
   ],
   "source": [
    "# f1-> factorial function\n",
    "\n",
    "s1.f1(3)"
   ]
  },
  {
   "cell_type": "code",
   "execution_count": 4,
   "id": "45291c06",
   "metadata": {},
   "outputs": [],
   "source": [
    "import python_tutorial"
   ]
  },
  {
   "cell_type": "code",
   "execution_count": 7,
   "id": "df7508b6",
   "metadata": {},
   "outputs": [],
   "source": [
    "from python_tutorial import Area_fig as af"
   ]
  },
  {
   "cell_type": "code",
   "execution_count": 9,
   "id": "a1d199ff",
   "metadata": {},
   "outputs": [
    {
     "name": "stdout",
     "output_type": "stream",
     "text": [
      "Area of rectangle:  20\n"
     ]
    }
   ],
   "source": [
    "af.rect(5,4)"
   ]
  },
  {
   "cell_type": "code",
   "execution_count": 8,
   "id": "fa371915",
   "metadata": {},
   "outputs": [],
   "source": [
    "from s1 import f2"
   ]
  },
  {
   "cell_type": "code",
   "execution_count": 10,
   "id": "b68de7f2",
   "metadata": {},
   "outputs": [
    {
     "name": "stdout",
     "output_type": "stream",
     "text": [
      "10\n"
     ]
    }
   ],
   "source": [
    "f2(4)"
   ]
  },
  {
   "cell_type": "code",
   "execution_count": 10,
   "id": "c71b7b85",
   "metadata": {},
   "outputs": [],
   "source": [
    "from python_tutorial.Area_fig import *"
   ]
  },
  {
   "cell_type": "code",
   "execution_count": 11,
   "id": "1c2f3c01",
   "metadata": {},
   "outputs": [
    {
     "name": "stdout",
     "output_type": "stream",
     "text": [
      "Area of square:  1600\n"
     ]
    }
   ],
   "source": [
    "sqr(40)"
   ]
  },
  {
   "cell_type": "code",
   "execution_count": 19,
   "id": "3304e103",
   "metadata": {},
   "outputs": [
    {
     "name": "stdout",
     "output_type": "stream",
     "text": [
      "<class 'tuple'>\n",
      "10\n",
      "<class 'dict'>\n",
      "Smarth\n",
      "{'name': 'Smarth', 'age': 21}\n"
     ]
    }
   ],
   "source": [
    "def func(*args,**kwargs):\n",
    "    print(type(args))\n",
    "    print(sum(args))\n",
    "    print(type(kwargs))\n",
    "    print(kwargs[\"name\"])\n",
    "    print(kwargs)\n",
    "    \n",
    "func(1,2,3,4,name=\"Smarth\",age=21)"
   ]
  },
  {
   "cell_type": "code",
   "execution_count": 34,
   "id": "5e431a85",
   "metadata": {},
   "outputs": [
    {
     "data": {
      "text/plain": [
       "dict_keys(['a', 'b', 'c'])"
      ]
     },
     "execution_count": 34,
     "metadata": {},
     "output_type": "execute_result"
    }
   ],
   "source": [
    "d={'a': 1, 'b': 2, 'c': 3}\n",
    "d.keys()"
   ]
  },
  {
   "cell_type": "code",
   "execution_count": 35,
   "id": "4c141044",
   "metadata": {},
   "outputs": [
    {
     "name": "stdout",
     "output_type": "stream",
     "text": [
      "a\n",
      "b\n",
      "c\n"
     ]
    }
   ],
   "source": [
    "for key in d:\n",
    "    print(key)"
   ]
  },
  {
   "cell_type": "code",
   "execution_count": 36,
   "id": "3947a236",
   "metadata": {},
   "outputs": [],
   "source": [
    "class Parent:\n",
    "    def __init__(self):\n",
    "        self.value = 5\n",
    "\n",
    "class Child(Parent):\n",
    "    def __init__(self):\n",
    "        super().__init__()\n",
    "        self.value += 1"
   ]
  },
  {
   "cell_type": "code",
   "execution_count": 38,
   "id": "afea8517",
   "metadata": {},
   "outputs": [],
   "source": [
    "p1=Parent()"
   ]
  },
  {
   "cell_type": "code",
   "execution_count": 41,
   "id": "f62fa7e4",
   "metadata": {},
   "outputs": [
    {
     "data": {
      "text/plain": [
       "5"
      ]
     },
     "execution_count": 41,
     "metadata": {},
     "output_type": "execute_result"
    }
   ],
   "source": [
    "p1.value"
   ]
  },
  {
   "cell_type": "code",
   "execution_count": 42,
   "id": "20c27b65",
   "metadata": {},
   "outputs": [],
   "source": [
    "class Animal:\n",
    "    def __init__(self,value):\n",
    "        self.value=value\n",
    "    @staticmethod\n",
    "    def speak():\n",
    "        print(\"Animal speaks\")\n",
    "\n",
    "class Dog:\n",
    "    def __init__(self,value):\n",
    "        super.__init__(self,value)\n",
    "\n",
    "    "
   ]
  },
  {
   "cell_type": "code",
   "execution_count": 44,
   "id": "5b8a6a5f",
   "metadata": {},
   "outputs": [
    {
     "ename": "TypeError",
     "evalue": "Dog.__init__() takes 1 positional argument but 2 were given",
     "output_type": "error",
     "traceback": [
      "\u001b[1;31m---------------------------------------------------------------------------\u001b[0m",
      "\u001b[1;31mTypeError\u001b[0m                                 Traceback (most recent call last)",
      "Cell \u001b[1;32mIn[44], line 1\u001b[0m\n\u001b[1;32m----> 1\u001b[0m d1\u001b[38;5;241m=\u001b[39m\u001b[43mDog\u001b[49m\u001b[43m(\u001b[49m\u001b[38;5;124;43m\"\u001b[39;49m\u001b[38;5;124;43m12\u001b[39;49m\u001b[38;5;124;43m\"\u001b[39;49m\u001b[43m)\u001b[49m\n",
      "\u001b[1;31mTypeError\u001b[0m: Dog.__init__() takes 1 positional argument but 2 were given"
     ]
    }
   ],
   "source": []
  },
  {
   "cell_type": "code",
   "execution_count": 45,
   "id": "f595f363",
   "metadata": {},
   "outputs": [
    {
     "name": "stdout",
     "output_type": "stream",
     "text": [
      "This function prints a greeting message.\n"
     ]
    }
   ],
   "source": [
    "def greet():\n",
    "    \"\"\"This function prints a greeting message.\"\"\"\n",
    "    print(\"Hello, World!\")\n",
    "\n",
    "print(greet.__doc__) "
   ]
  },
  {
   "cell_type": "code",
   "execution_count": 48,
   "id": "d49a2cb6",
   "metadata": {},
   "outputs": [
    {
     "data": {
      "text/plain": [
       "4"
      ]
     },
     "execution_count": 48,
     "metadata": {},
     "output_type": "execute_result"
    }
   ],
   "source": [
    "s=\"sash@213\"\n",
    "s.index(\"@\")"
   ]
  },
  {
   "cell_type": "code",
   "execution_count": 51,
   "id": "43750736",
   "metadata": {},
   "outputs": [
    {
     "name": "stdout",
     "output_type": "stream",
     "text": [
      "23.00\n"
     ]
    }
   ],
   "source": [
    "x=23\n",
    "print(f\"{x:.2f}\")"
   ]
  },
  {
   "cell_type": "code",
   "execution_count": 53,
   "id": "156713be",
   "metadata": {},
   "outputs": [
    {
     "data": {
      "text/plain": [
       "2"
      ]
     },
     "execution_count": 53,
     "metadata": {},
     "output_type": "execute_result"
    }
   ],
   "source": [
    "import numpy as np\n",
    "arr = np.array([[10, 20, 30, 40], [50, 60, 70, 80]])\n",
    "arr.ndim"
   ]
  },
  {
   "cell_type": "code",
   "execution_count": 57,
   "id": "0d21906c",
   "metadata": {},
   "outputs": [],
   "source": [
    "dic={\"Name\":[\"Smarth\",\"Saarthak\",\"Sandeep\"],\"Age\":[21,23,21],\"Class\":[\"E\",\"A\",\"E\"]}"
   ]
  },
  {
   "cell_type": "code",
   "execution_count": 2,
   "id": "197ee82f",
   "metadata": {},
   "outputs": [
    {
     "name": "stderr",
     "output_type": "stream",
     "text": [
      "C:\\Users\\smart\\anaconda3\\lib\\site-packages\\pandas\\core\\arrays\\masked.py:60: UserWarning: Pandas requires version '1.3.6' or newer of 'bottleneck' (version '1.3.5' currently installed).\n",
      "  from pandas.core import (\n"
     ]
    }
   ],
   "source": [
    "import pandas as pd\n",
    "df=pd.DataFrame({\"Name\":[\"Smarth\",\"Saarthak\",\"Sandeep\"],\n",
    "                 \"Age\":[21,23,21],\n",
    "                 \"Class\":[\"E\",\"A\",\"E\"]\n",
    "                })"
   ]
  },
  {
   "cell_type": "code",
   "execution_count": 3,
   "id": "8b099e6e",
   "metadata": {},
   "outputs": [
    {
     "data": {
      "text/html": [
       "<div>\n",
       "<style scoped>\n",
       "    .dataframe tbody tr th:only-of-type {\n",
       "        vertical-align: middle;\n",
       "    }\n",
       "\n",
       "    .dataframe tbody tr th {\n",
       "        vertical-align: top;\n",
       "    }\n",
       "\n",
       "    .dataframe thead th {\n",
       "        text-align: right;\n",
       "    }\n",
       "</style>\n",
       "<table border=\"1\" class=\"dataframe\">\n",
       "  <thead>\n",
       "    <tr style=\"text-align: right;\">\n",
       "      <th></th>\n",
       "      <th>Name</th>\n",
       "      <th>Age</th>\n",
       "      <th>Class</th>\n",
       "    </tr>\n",
       "  </thead>\n",
       "  <tbody>\n",
       "    <tr>\n",
       "      <th>0</th>\n",
       "      <td>Smarth</td>\n",
       "      <td>21</td>\n",
       "      <td>E</td>\n",
       "    </tr>\n",
       "    <tr>\n",
       "      <th>1</th>\n",
       "      <td>Saarthak</td>\n",
       "      <td>23</td>\n",
       "      <td>A</td>\n",
       "    </tr>\n",
       "    <tr>\n",
       "      <th>2</th>\n",
       "      <td>Sandeep</td>\n",
       "      <td>21</td>\n",
       "      <td>E</td>\n",
       "    </tr>\n",
       "  </tbody>\n",
       "</table>\n",
       "</div>"
      ],
      "text/plain": [
       "       Name  Age Class\n",
       "0    Smarth   21     E\n",
       "1  Saarthak   23     A\n",
       "2   Sandeep   21     E"
      ]
     },
     "execution_count": 3,
     "metadata": {},
     "output_type": "execute_result"
    }
   ],
   "source": [
    "df"
   ]
  },
  {
   "cell_type": "code",
   "execution_count": 4,
   "id": "83a5d21e",
   "metadata": {},
   "outputs": [],
   "source": [
    "df.rename(columns={\"Name\":\"Student Name\"},inplace=True)"
   ]
  },
  {
   "cell_type": "code",
   "execution_count": 5,
   "id": "7c932509",
   "metadata": {},
   "outputs": [
    {
     "data": {
      "text/html": [
       "<div>\n",
       "<style scoped>\n",
       "    .dataframe tbody tr th:only-of-type {\n",
       "        vertical-align: middle;\n",
       "    }\n",
       "\n",
       "    .dataframe tbody tr th {\n",
       "        vertical-align: top;\n",
       "    }\n",
       "\n",
       "    .dataframe thead th {\n",
       "        text-align: right;\n",
       "    }\n",
       "</style>\n",
       "<table border=\"1\" class=\"dataframe\">\n",
       "  <thead>\n",
       "    <tr style=\"text-align: right;\">\n",
       "      <th></th>\n",
       "      <th>Student Name</th>\n",
       "      <th>Age</th>\n",
       "      <th>Class</th>\n",
       "    </tr>\n",
       "  </thead>\n",
       "  <tbody>\n",
       "    <tr>\n",
       "      <th>0</th>\n",
       "      <td>Smarth</td>\n",
       "      <td>21</td>\n",
       "      <td>E</td>\n",
       "    </tr>\n",
       "    <tr>\n",
       "      <th>1</th>\n",
       "      <td>Saarthak</td>\n",
       "      <td>23</td>\n",
       "      <td>A</td>\n",
       "    </tr>\n",
       "    <tr>\n",
       "      <th>2</th>\n",
       "      <td>Sandeep</td>\n",
       "      <td>21</td>\n",
       "      <td>E</td>\n",
       "    </tr>\n",
       "  </tbody>\n",
       "</table>\n",
       "</div>"
      ],
      "text/plain": [
       "  Student Name  Age Class\n",
       "0       Smarth   21     E\n",
       "1     Saarthak   23     A\n",
       "2      Sandeep   21     E"
      ]
     },
     "execution_count": 5,
     "metadata": {},
     "output_type": "execute_result"
    }
   ],
   "source": [
    "df"
   ]
  },
  {
   "cell_type": "code",
   "execution_count": 7,
   "id": "1c6a7433",
   "metadata": {},
   "outputs": [
    {
     "data": {
      "text/html": [
       "<div>\n",
       "<style scoped>\n",
       "    .dataframe tbody tr th:only-of-type {\n",
       "        vertical-align: middle;\n",
       "    }\n",
       "\n",
       "    .dataframe tbody tr th {\n",
       "        vertical-align: top;\n",
       "    }\n",
       "\n",
       "    .dataframe thead th {\n",
       "        text-align: right;\n",
       "    }\n",
       "</style>\n",
       "<table border=\"1\" class=\"dataframe\">\n",
       "  <thead>\n",
       "    <tr style=\"text-align: right;\">\n",
       "      <th></th>\n",
       "      <th>Name</th>\n",
       "      <th>Age</th>\n",
       "      <th>Class</th>\n",
       "    </tr>\n",
       "  </thead>\n",
       "  <tbody>\n",
       "    <tr>\n",
       "      <th>0</th>\n",
       "      <td>Smarth</td>\n",
       "      <td>21</td>\n",
       "      <td>E</td>\n",
       "    </tr>\n",
       "    <tr>\n",
       "      <th>1</th>\n",
       "      <td>Saarthak</td>\n",
       "      <td>23</td>\n",
       "      <td>A</td>\n",
       "    </tr>\n",
       "    <tr>\n",
       "      <th>2</th>\n",
       "      <td>Sandeep</td>\n",
       "      <td>21</td>\n",
       "      <td>E</td>\n",
       "    </tr>\n",
       "  </tbody>\n",
       "</table>\n",
       "</div>"
      ],
      "text/plain": [
       "       Name  Age Class\n",
       "0    Smarth   21     E\n",
       "1  Saarthak   23     A\n",
       "2   Sandeep   21     E"
      ]
     },
     "execution_count": 7,
     "metadata": {},
     "output_type": "execute_result"
    }
   ],
   "source": [
    "a=df.rename(columns={\"Student Name\":\"Name\"})\n",
    "a"
   ]
  },
  {
   "cell_type": "code",
   "execution_count": 8,
   "id": "46866c58",
   "metadata": {},
   "outputs": [
    {
     "data": {
      "text/html": [
       "<div>\n",
       "<style scoped>\n",
       "    .dataframe tbody tr th:only-of-type {\n",
       "        vertical-align: middle;\n",
       "    }\n",
       "\n",
       "    .dataframe tbody tr th {\n",
       "        vertical-align: top;\n",
       "    }\n",
       "\n",
       "    .dataframe thead th {\n",
       "        text-align: right;\n",
       "    }\n",
       "</style>\n",
       "<table border=\"1\" class=\"dataframe\">\n",
       "  <thead>\n",
       "    <tr style=\"text-align: right;\">\n",
       "      <th></th>\n",
       "      <th>Student Name</th>\n",
       "      <th>Age</th>\n",
       "      <th>Class</th>\n",
       "    </tr>\n",
       "  </thead>\n",
       "  <tbody>\n",
       "    <tr>\n",
       "      <th>0</th>\n",
       "      <td>Smarth</td>\n",
       "      <td>21</td>\n",
       "      <td>E</td>\n",
       "    </tr>\n",
       "    <tr>\n",
       "      <th>1</th>\n",
       "      <td>Saarthak</td>\n",
       "      <td>23</td>\n",
       "      <td>A</td>\n",
       "    </tr>\n",
       "    <tr>\n",
       "      <th>2</th>\n",
       "      <td>Sandeep</td>\n",
       "      <td>21</td>\n",
       "      <td>E</td>\n",
       "    </tr>\n",
       "  </tbody>\n",
       "</table>\n",
       "</div>"
      ],
      "text/plain": [
       "  Student Name  Age Class\n",
       "0       Smarth   21     E\n",
       "1     Saarthak   23     A\n",
       "2      Sandeep   21     E"
      ]
     },
     "execution_count": 8,
     "metadata": {},
     "output_type": "execute_result"
    }
   ],
   "source": [
    "df"
   ]
  },
  {
   "cell_type": "code",
   "execution_count": 11,
   "id": "5ccf4690",
   "metadata": {},
   "outputs": [],
   "source": [
    "Data={\"Name\":[\"Smarth\",\"Saarthak\",\"Sandeep\"],\"Age\":[21,23,21],\"Class\":[\"E\",\"A\",\"E\"]}"
   ]
  },
  {
   "cell_type": "code",
   "execution_count": 14,
   "id": "56493676",
   "metadata": {},
   "outputs": [
    {
     "name": "stderr",
     "output_type": "stream",
     "text": [
      "C:\\Users\\smart\\AppData\\Local\\Temp\\ipykernel_32368\\2777817448.py:3: FutureWarning: Passing literal json to 'read_json' is deprecated and will be removed in a future version. To read from a literal string, wrap it in a 'StringIO' object.\n",
      "  df=pd.read_json(json_data)\n"
     ]
    }
   ],
   "source": [
    "import json\n",
    "json_data = json.dumps(Data)\n",
    "df=pd.read_json(json_data)"
   ]
  },
  {
   "cell_type": "code",
   "execution_count": 26,
   "id": "4f375f86",
   "metadata": {},
   "outputs": [
    {
     "name": "stdout",
     "output_type": "stream",
     "text": [
      "<class 'str'>\n"
     ]
    }
   ],
   "source": [
    "print(type(json_data))"
   ]
  },
  {
   "cell_type": "code",
   "execution_count": 15,
   "id": "8bacf3c5",
   "metadata": {},
   "outputs": [
    {
     "data": {
      "text/html": [
       "<div>\n",
       "<style scoped>\n",
       "    .dataframe tbody tr th:only-of-type {\n",
       "        vertical-align: middle;\n",
       "    }\n",
       "\n",
       "    .dataframe tbody tr th {\n",
       "        vertical-align: top;\n",
       "    }\n",
       "\n",
       "    .dataframe thead th {\n",
       "        text-align: right;\n",
       "    }\n",
       "</style>\n",
       "<table border=\"1\" class=\"dataframe\">\n",
       "  <thead>\n",
       "    <tr style=\"text-align: right;\">\n",
       "      <th></th>\n",
       "      <th>Name</th>\n",
       "      <th>Age</th>\n",
       "      <th>Class</th>\n",
       "    </tr>\n",
       "  </thead>\n",
       "  <tbody>\n",
       "    <tr>\n",
       "      <th>0</th>\n",
       "      <td>Smarth</td>\n",
       "      <td>21</td>\n",
       "      <td>E</td>\n",
       "    </tr>\n",
       "    <tr>\n",
       "      <th>1</th>\n",
       "      <td>Saarthak</td>\n",
       "      <td>23</td>\n",
       "      <td>A</td>\n",
       "    </tr>\n",
       "    <tr>\n",
       "      <th>2</th>\n",
       "      <td>Sandeep</td>\n",
       "      <td>21</td>\n",
       "      <td>E</td>\n",
       "    </tr>\n",
       "  </tbody>\n",
       "</table>\n",
       "</div>"
      ],
      "text/plain": [
       "       Name  Age Class\n",
       "0    Smarth   21     E\n",
       "1  Saarthak   23     A\n",
       "2   Sandeep   21     E"
      ]
     },
     "execution_count": 15,
     "metadata": {},
     "output_type": "execute_result"
    }
   ],
   "source": [
    "df"
   ]
  },
  {
   "cell_type": "code",
   "execution_count": 18,
   "id": "37db169f",
   "metadata": {},
   "outputs": [
    {
     "name": "stdout",
     "output_type": "stream",
     "text": [
      "<bound method NDFrame.to_json of        Name  Age Class\n",
      "0    Smarth   21     E\n",
      "1  Saarthak   23     A\n",
      "2   Sandeep   21     E>\n"
     ]
    }
   ],
   "source": [
    "print(df.to_json)"
   ]
  },
  {
   "cell_type": "code",
   "execution_count": 20,
   "id": "9b369eae",
   "metadata": {},
   "outputs": [],
   "source": [
    "data='{\"Name\":[\"Smarth\",\"Saarthak\",\"Sandeep\"],\"Age\":[21,23,21],\"Class\":[\"E\",\"A\",\"E\"]}'"
   ]
  },
  {
   "cell_type": "code",
   "execution_count": 21,
   "id": "e285df12",
   "metadata": {},
   "outputs": [
    {
     "data": {
      "text/plain": [
       "str"
      ]
     },
     "execution_count": 21,
     "metadata": {},
     "output_type": "execute_result"
    }
   ],
   "source": [
    "type(data)"
   ]
  },
  {
   "cell_type": "code",
   "execution_count": 22,
   "id": "de95bc01",
   "metadata": {},
   "outputs": [],
   "source": [
    "parsed=json.loads(data)"
   ]
  },
  {
   "cell_type": "code",
   "execution_count": 23,
   "id": "ac1172b9",
   "metadata": {},
   "outputs": [
    {
     "data": {
      "text/plain": [
       "{'Name': ['Smarth', 'Saarthak', 'Sandeep'],\n",
       " 'Age': [21, 23, 21],\n",
       " 'Class': ['E', 'A', 'E']}"
      ]
     },
     "execution_count": 23,
     "metadata": {},
     "output_type": "execute_result"
    }
   ],
   "source": [
    "parsed"
   ]
  },
  {
   "cell_type": "code",
   "execution_count": 24,
   "id": "e5e94977",
   "metadata": {},
   "outputs": [
    {
     "data": {
      "text/plain": [
       "['Smarth', 'Saarthak', 'Sandeep']"
      ]
     },
     "execution_count": 24,
     "metadata": {},
     "output_type": "execute_result"
    }
   ],
   "source": [
    "parsed[\"Name\"]"
   ]
  },
  {
   "cell_type": "code",
   "execution_count": 25,
   "id": "30ee4938",
   "metadata": {},
   "outputs": [
    {
     "ename": "TypeError",
     "evalue": "string indices must be integers",
     "output_type": "error",
     "traceback": [
      "\u001b[1;31m---------------------------------------------------------------------------\u001b[0m",
      "\u001b[1;31mTypeError\u001b[0m                                 Traceback (most recent call last)",
      "Cell \u001b[1;32mIn[25], line 1\u001b[0m\n\u001b[1;32m----> 1\u001b[0m \u001b[43mdata\u001b[49m\u001b[43m[\u001b[49m\u001b[38;5;124;43m\"\u001b[39;49m\u001b[38;5;124;43mName\u001b[39;49m\u001b[38;5;124;43m\"\u001b[39;49m\u001b[43m]\u001b[49m\n",
      "\u001b[1;31mTypeError\u001b[0m: string indices must be integers"
     ]
    }
   ],
   "source": [
    "data[\"Name\"]"
   ]
  },
  {
   "cell_type": "code",
   "execution_count": 35,
   "id": "22019bd6",
   "metadata": {},
   "outputs": [],
   "source": [
    "def outer(n):\n",
    "    name=\"Smarth\"\n",
    "    def inner():\n",
    "        return name,n+10\n",
    "    return inner\n",
    "a=outer(3)"
   ]
  },
  {
   "cell_type": "code",
   "execution_count": 36,
   "id": "2e144879",
   "metadata": {},
   "outputs": [
    {
     "data": {
      "text/plain": [
       "('Smarth', 13)"
      ]
     },
     "execution_count": 36,
     "metadata": {},
     "output_type": "execute_result"
    }
   ],
   "source": [
    "a()"
   ]
  },
  {
   "cell_type": "code",
   "execution_count": 37,
   "id": "2056ef43",
   "metadata": {},
   "outputs": [
    {
     "name": "stderr",
     "output_type": "stream",
     "text": [
      "C:\\Users\\smart\\AppData\\Local\\Temp\\ipykernel_32368\\2367145939.py:2: FutureWarning: Passing literal json to 'read_json' is deprecated and will be removed in a future version. To read from a literal string, wrap it in a 'StringIO' object.\n",
      "  df=pd.read_json(data)\n"
     ]
    }
   ],
   "source": [
    "data='{\"Name\":[\"Smarth\",\"Saarthak\",\"Sandeep\"],\"Age\":[21,23,21],\"Class\":[\"E\",\"A\",\"E\"]}'\n",
    "df=pd.read_json(data)"
   ]
  },
  {
   "cell_type": "code",
   "execution_count": 38,
   "id": "d2b626de",
   "metadata": {},
   "outputs": [
    {
     "data": {
      "text/html": [
       "<div>\n",
       "<style scoped>\n",
       "    .dataframe tbody tr th:only-of-type {\n",
       "        vertical-align: middle;\n",
       "    }\n",
       "\n",
       "    .dataframe tbody tr th {\n",
       "        vertical-align: top;\n",
       "    }\n",
       "\n",
       "    .dataframe thead th {\n",
       "        text-align: right;\n",
       "    }\n",
       "</style>\n",
       "<table border=\"1\" class=\"dataframe\">\n",
       "  <thead>\n",
       "    <tr style=\"text-align: right;\">\n",
       "      <th></th>\n",
       "      <th>Name</th>\n",
       "      <th>Age</th>\n",
       "      <th>Class</th>\n",
       "    </tr>\n",
       "  </thead>\n",
       "  <tbody>\n",
       "    <tr>\n",
       "      <th>0</th>\n",
       "      <td>Smarth</td>\n",
       "      <td>21</td>\n",
       "      <td>E</td>\n",
       "    </tr>\n",
       "    <tr>\n",
       "      <th>1</th>\n",
       "      <td>Saarthak</td>\n",
       "      <td>23</td>\n",
       "      <td>A</td>\n",
       "    </tr>\n",
       "    <tr>\n",
       "      <th>2</th>\n",
       "      <td>Sandeep</td>\n",
       "      <td>21</td>\n",
       "      <td>E</td>\n",
       "    </tr>\n",
       "  </tbody>\n",
       "</table>\n",
       "</div>"
      ],
      "text/plain": [
       "       Name  Age Class\n",
       "0    Smarth   21     E\n",
       "1  Saarthak   23     A\n",
       "2   Sandeep   21     E"
      ]
     },
     "execution_count": 38,
     "metadata": {},
     "output_type": "execute_result"
    }
   ],
   "source": [
    "df"
   ]
  },
  {
   "cell_type": "code",
   "execution_count": 56,
   "id": "0aa0e8b7",
   "metadata": {},
   "outputs": [],
   "source": [
    "class Student:\n",
    "    def __init__(self,name,iden):\n",
    "        self.name=name\n",
    "        self.id=iden\n",
    "        self.courses=[]\n",
    "        \n",
    "    def enrolling(self, course):\n",
    "        self.courses.append(course)\n",
    "    \n",
    "    def dropping(self, course):\n",
    "        for i in self.courses:\n",
    "            if i.title==course.title:\n",
    "                self.courses.remove(i)\n",
    "                course.drop_student(self)\n",
    "        \n",
    "    def view(self):\n",
    "        for course in courses:\n",
    "            print(course.title)\n",
    "    \n",
    "class Course:\n",
    "    \n",
    "    def __init__(self, title, instructor, max_students):\n",
    "        self.title = title\n",
    "        self.instructor = instructor\n",
    "        self.max_students = max_students\n",
    "        self.student_list = [] \n",
    "    \n",
    "    def add_student(self, student):\n",
    "        if len(self.student_list) < self.max_students:\n",
    "            self.student_list.append(student)\n",
    "        student.enrolling(self)\n",
    "    \n",
    "    def drop_student(self, student):\n",
    "        self.student_list.remove(student)\n",
    "        student.dropping(self)\n",
    "    def view_students(self):\n",
    "        for student in self.student_list:\n",
    "            print(student.name)"
   ]
  },
  {
   "cell_type": "code",
   "execution_count": 57,
   "id": "9d055979",
   "metadata": {},
   "outputs": [],
   "source": [
    "math101 = Course(\"Calculus\", \"Dr. Smith\", 3)\n",
    "john = Student(\"John Doe\", \"12345\")\n",
    "jane = Student(\"Jane Doe\", \"67890\")\n",
    "mark = Student(\"Mark Lee\", \"11111\")"
   ]
  },
  {
   "cell_type": "code",
   "execution_count": 58,
   "id": "79887361",
   "metadata": {},
   "outputs": [],
   "source": [
    "math101.add_student(john)\n",
    "math101.add_student(jane)\n",
    "math101.add_student(mark)"
   ]
  },
  {
   "cell_type": "code",
   "execution_count": 59,
   "id": "d39d6919",
   "metadata": {},
   "outputs": [
    {
     "name": "stdout",
     "output_type": "stream",
     "text": [
      "John Doe\n",
      "Jane Doe\n",
      "Mark Lee\n"
     ]
    }
   ],
   "source": [
    "math101.view_students()"
   ]
  },
  {
   "cell_type": "code",
   "execution_count": 60,
   "id": "a52b8bd6",
   "metadata": {},
   "outputs": [],
   "source": [
    "john.dropping(math101)  "
   ]
  },
  {
   "cell_type": "code",
   "execution_count": 55,
   "id": "d5a038a8",
   "metadata": {},
   "outputs": [
    {
     "name": "stdout",
     "output_type": "stream",
     "text": [
      "Jane Doe\n",
      "Mark Lee\n"
     ]
    }
   ],
   "source": [
    "math101.view_students()"
   ]
  },
  {
   "cell_type": "code",
   "execution_count": 61,
   "id": "bc8f6328",
   "metadata": {},
   "outputs": [
    {
     "ename": "TypeError",
     "evalue": "unsupported operand type(s) for +: 'Animal' and 'Animal'",
     "output_type": "error",
     "traceback": [
      "\u001b[1;31m---------------------------------------------------------------------------\u001b[0m",
      "\u001b[1;31mTypeError\u001b[0m                                 Traceback (most recent call last)",
      "Cell \u001b[1;32mIn[61], line 8\u001b[0m\n\u001b[0;32m      6\u001b[0m a1\u001b[38;5;241m=\u001b[39mAnimal(\u001b[38;5;124m\"\u001b[39m\u001b[38;5;124mdog\u001b[39m\u001b[38;5;124m\"\u001b[39m)\n\u001b[0;32m      7\u001b[0m a2\u001b[38;5;241m=\u001b[39mAnimal(\u001b[38;5;124m\"\u001b[39m\u001b[38;5;124mcat\u001b[39m\u001b[38;5;124m\"\u001b[39m)\n\u001b[1;32m----> 8\u001b[0m \u001b[38;5;28mprint\u001b[39m(\u001b[43ma1\u001b[49m\u001b[38;5;241;43m+\u001b[39;49m\u001b[43ma2\u001b[49m)\n",
      "\u001b[1;31mTypeError\u001b[0m: unsupported operand type(s) for +: 'Animal' and 'Animal'"
     ]
    }
   ],
   "source": [
    "class Animal:\n",
    "    def __init__(self,name):\n",
    "        self.name=name\n",
    "#     def __add__(self,other):\n",
    "#         print(self.name + other.name)\n",
    "a1=Animal(\"dog\")\n",
    "a2=Animal(\"cat\")\n",
    "print(a1+a2)"
   ]
  },
  {
   "cell_type": "code",
   "execution_count": 68,
   "id": "3107c0f6",
   "metadata": {},
   "outputs": [
    {
     "name": "stdout",
     "output_type": "stream",
     "text": [
      "dog cat\n"
     ]
    }
   ],
   "source": [
    "class Animal:\n",
    "    def __init__(self,name):\n",
    "        self.name=name\n",
    "    def __add__(self,other):\n",
    "        print(self.name +\" \" + other.name)\n",
    "#     def __len__(self):\n",
    "#         print(len(self..name))\n",
    "a1=Animal(\"dog\")\n",
    "a2=Animal(\"cat\")\n",
    "a1+a2\n"
   ]
  },
  {
   "cell_type": "code",
   "execution_count": 72,
   "id": "527a90ab",
   "metadata": {},
   "outputs": [
    {
     "name": "stdout",
     "output_type": "stream",
     "text": [
      "dog cat\n"
     ]
    },
    {
     "data": {
      "text/plain": [
       "3"
      ]
     },
     "execution_count": 72,
     "metadata": {},
     "output_type": "execute_result"
    }
   ],
   "source": [
    "class Animal:\n",
    "    def __init__(self,name):\n",
    "        self.name=name\n",
    "    def __add__(self,other):\n",
    "        return (self.name +\" \" + other.name)\n",
    "    def __len__(self):\n",
    "        return len(self.name)\n",
    "a1=Animal(\"dog\")\n",
    "a2=Animal(\"cat\")\n",
    "print(a1+a2)\n",
    "len(a1)"
   ]
  },
  {
   "cell_type": "code",
   "execution_count": 73,
   "id": "73bbfa50",
   "metadata": {},
   "outputs": [
    {
     "name": "stdout",
     "output_type": "stream",
     "text": [
      "4\n",
      "16\n",
      "36\n",
      "64\n"
     ]
    }
   ],
   "source": [
    "a=filter(lambda x: x%2==0,map(lambda x: x**2,range(1,10)))\n",
    "for i in a :\n",
    "    print(i)"
   ]
  },
  {
   "cell_type": "code",
   "execution_count": null,
   "id": "cbb4352e",
   "metadata": {},
   "outputs": [],
   "source": []
  }
 ],
 "metadata": {
  "kernelspec": {
   "display_name": "Python 3 (ipykernel)",
   "language": "python",
   "name": "python3"
  },
  "language_info": {
   "codemirror_mode": {
    "name": "ipython",
    "version": 3
   },
   "file_extension": ".py",
   "mimetype": "text/x-python",
   "name": "python",
   "nbconvert_exporter": "python",
   "pygments_lexer": "ipython3",
   "version": "3.10.9"
  }
 },
 "nbformat": 4,
 "nbformat_minor": 5
}
